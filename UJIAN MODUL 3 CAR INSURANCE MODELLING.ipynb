{
 "cells": [
  {
   "cell_type": "markdown",
   "metadata": {},
   "source": [
    "Import Common Packages"
   ]
  },
  {
   "cell_type": "code",
   "execution_count": 2,
   "metadata": {},
   "outputs": [],
   "source": [
    "import pandas as pd\n",
    "import numpy as np\n",
    "import seaborn as sns\n",
    "import matplotlib.pyplot as plt\n",
    "from jupyterthemes import jtplot\n",
    "jtplot.style(theme='monokai', context='notebook', ticks=True, grid=False)\n",
    "\n",
    "%matplotlib inline"
   ]
  },
  {
   "cell_type": "code",
   "execution_count": 287,
   "metadata": {},
   "outputs": [],
   "source": [
    "# Read Data\n",
    "\n",
    "df=pd.read_csv('InsuranceClean.csv')\n",
    "df1=df.copy()"
   ]
  },
  {
   "cell_type": "code",
   "execution_count": 288,
   "metadata": {},
   "outputs": [],
   "source": [
    "pd.options.display.max_columns = 99"
   ]
  },
  {
   "cell_type": "code",
   "execution_count": 289,
   "metadata": {},
   "outputs": [
    {
     "data": {
      "text/html": [
       "<div>\n",
       "<style scoped>\n",
       "    .dataframe tbody tr th:only-of-type {\n",
       "        vertical-align: middle;\n",
       "    }\n",
       "\n",
       "    .dataframe tbody tr th {\n",
       "        vertical-align: top;\n",
       "    }\n",
       "\n",
       "    .dataframe thead th {\n",
       "        text-align: right;\n",
       "    }\n",
       "</style>\n",
       "<table border=\"1\" class=\"dataframe\">\n",
       "  <thead>\n",
       "    <tr style=\"text-align: right;\">\n",
       "      <th></th>\n",
       "      <th>Id</th>\n",
       "      <th>Age</th>\n",
       "      <th>Job</th>\n",
       "      <th>Marital</th>\n",
       "      <th>Education</th>\n",
       "      <th>Default</th>\n",
       "      <th>Balance</th>\n",
       "      <th>HHInsurance</th>\n",
       "      <th>CarLoan</th>\n",
       "      <th>Communication</th>\n",
       "      <th>LastContactDay</th>\n",
       "      <th>LastContactMonth</th>\n",
       "      <th>NoOfContacts</th>\n",
       "      <th>DaysPassed</th>\n",
       "      <th>PrevAttempts</th>\n",
       "      <th>Outcome</th>\n",
       "      <th>CallStart</th>\n",
       "      <th>CallEnd</th>\n",
       "      <th>CarInsurance</th>\n",
       "      <th>CallTime</th>\n",
       "      <th>balanse</th>\n",
       "    </tr>\n",
       "  </thead>\n",
       "  <tbody>\n",
       "    <tr>\n",
       "      <th>0</th>\n",
       "      <td>1</td>\n",
       "      <td>32</td>\n",
       "      <td>management</td>\n",
       "      <td>single</td>\n",
       "      <td>tertiary</td>\n",
       "      <td>0</td>\n",
       "      <td>1218</td>\n",
       "      <td>1</td>\n",
       "      <td>0</td>\n",
       "      <td>telephone</td>\n",
       "      <td>28</td>\n",
       "      <td>jan</td>\n",
       "      <td>2</td>\n",
       "      <td>-1</td>\n",
       "      <td>0</td>\n",
       "      <td>Not contacted</td>\n",
       "      <td>825</td>\n",
       "      <td>826</td>\n",
       "      <td>0</td>\n",
       "      <td>1</td>\n",
       "      <td>up to 1500$</td>\n",
       "    </tr>\n",
       "    <tr>\n",
       "      <th>1</th>\n",
       "      <td>2</td>\n",
       "      <td>32</td>\n",
       "      <td>blue-collar</td>\n",
       "      <td>married</td>\n",
       "      <td>primary</td>\n",
       "      <td>0</td>\n",
       "      <td>1156</td>\n",
       "      <td>1</td>\n",
       "      <td>0</td>\n",
       "      <td>cellular</td>\n",
       "      <td>26</td>\n",
       "      <td>may</td>\n",
       "      <td>5</td>\n",
       "      <td>-1</td>\n",
       "      <td>0</td>\n",
       "      <td>Not contacted</td>\n",
       "      <td>889</td>\n",
       "      <td>892</td>\n",
       "      <td>0</td>\n",
       "      <td>3</td>\n",
       "      <td>up to 1500$</td>\n",
       "    </tr>\n",
       "    <tr>\n",
       "      <th>2</th>\n",
       "      <td>3</td>\n",
       "      <td>29</td>\n",
       "      <td>management</td>\n",
       "      <td>single</td>\n",
       "      <td>tertiary</td>\n",
       "      <td>0</td>\n",
       "      <td>637</td>\n",
       "      <td>1</td>\n",
       "      <td>0</td>\n",
       "      <td>cellular</td>\n",
       "      <td>3</td>\n",
       "      <td>jun</td>\n",
       "      <td>1</td>\n",
       "      <td>119</td>\n",
       "      <td>1</td>\n",
       "      <td>failure</td>\n",
       "      <td>990</td>\n",
       "      <td>996</td>\n",
       "      <td>1</td>\n",
       "      <td>6</td>\n",
       "      <td>up to 1000$</td>\n",
       "    </tr>\n",
       "    <tr>\n",
       "      <th>3</th>\n",
       "      <td>4</td>\n",
       "      <td>25</td>\n",
       "      <td>student</td>\n",
       "      <td>single</td>\n",
       "      <td>primary</td>\n",
       "      <td>0</td>\n",
       "      <td>373</td>\n",
       "      <td>1</td>\n",
       "      <td>0</td>\n",
       "      <td>cellular</td>\n",
       "      <td>11</td>\n",
       "      <td>may</td>\n",
       "      <td>2</td>\n",
       "      <td>-1</td>\n",
       "      <td>0</td>\n",
       "      <td>Not contacted</td>\n",
       "      <td>726</td>\n",
       "      <td>740</td>\n",
       "      <td>1</td>\n",
       "      <td>14</td>\n",
       "      <td>up to 500$</td>\n",
       "    </tr>\n",
       "    <tr>\n",
       "      <th>4</th>\n",
       "      <td>5</td>\n",
       "      <td>30</td>\n",
       "      <td>management</td>\n",
       "      <td>married</td>\n",
       "      <td>tertiary</td>\n",
       "      <td>0</td>\n",
       "      <td>2694</td>\n",
       "      <td>0</td>\n",
       "      <td>0</td>\n",
       "      <td>cellular</td>\n",
       "      <td>3</td>\n",
       "      <td>jun</td>\n",
       "      <td>1</td>\n",
       "      <td>-1</td>\n",
       "      <td>0</td>\n",
       "      <td>Not contacted</td>\n",
       "      <td>875</td>\n",
       "      <td>878</td>\n",
       "      <td>0</td>\n",
       "      <td>3</td>\n",
       "      <td>above 2000$</td>\n",
       "    </tr>\n",
       "  </tbody>\n",
       "</table>\n",
       "</div>"
      ],
      "text/plain": [
       "   Id  Age          Job  Marital Education  Default  Balance  HHInsurance  \\\n",
       "0   1   32   management   single  tertiary        0     1218            1   \n",
       "1   2   32  blue-collar  married   primary        0     1156            1   \n",
       "2   3   29   management   single  tertiary        0      637            1   \n",
       "3   4   25      student   single   primary        0      373            1   \n",
       "4   5   30   management  married  tertiary        0     2694            0   \n",
       "\n",
       "   CarLoan Communication  LastContactDay LastContactMonth  NoOfContacts  \\\n",
       "0        0     telephone              28              jan             2   \n",
       "1        0      cellular              26              may             5   \n",
       "2        0      cellular               3              jun             1   \n",
       "3        0      cellular              11              may             2   \n",
       "4        0      cellular               3              jun             1   \n",
       "\n",
       "   DaysPassed  PrevAttempts        Outcome  CallStart  CallEnd  CarInsurance  \\\n",
       "0          -1             0  Not contacted        825      826             0   \n",
       "1          -1             0  Not contacted        889      892             0   \n",
       "2         119             1        failure        990      996             1   \n",
       "3          -1             0  Not contacted        726      740             1   \n",
       "4          -1             0  Not contacted        875      878             0   \n",
       "\n",
       "   CallTime      balanse  \n",
       "0         1  up to 1500$  \n",
       "1         3  up to 1500$  \n",
       "2         6  up to 1000$  \n",
       "3        14   up to 500$  \n",
       "4         3  above 2000$  "
      ]
     },
     "execution_count": 289,
     "metadata": {},
     "output_type": "execute_result"
    }
   ],
   "source": [
    "df.head()"
   ]
  },
  {
   "cell_type": "markdown",
   "metadata": {},
   "source": [
    "## DATA PREPARATION"
   ]
  },
  {
   "cell_type": "markdown",
   "metadata": {},
   "source": [
    "### Feature Selection"
   ]
  },
  {
   "cell_type": "code",
   "execution_count": 290,
   "metadata": {},
   "outputs": [
    {
     "data": {
      "text/plain": [
       "<matplotlib.axes._subplots.AxesSubplot at 0x216d96d5fa0>"
      ]
     },
     "execution_count": 290,
     "metadata": {},
     "output_type": "execute_result"
    },
    {
     "data": {
      "image/png": "[encoded data removed]",
      "text/plain": [
       "<Figure size 1296x576 with 2 Axes>"
      ]
     },
     "metadata": {
      "needs_background": "dark"
     },
     "output_type": "display_data"
    }
   ],
   "source": [
    "plt.figure(figsize=(18,8))\n",
    "sns.heatmap(df.corr(), annot=True)"
   ]
  },
  {
   "cell_type": "markdown",
   "metadata": {},
   "source": [
    "- Checking Correlation between target feature with other numerical features.\n",
    "### Initial Hypothesis\n",
    "- HHInsurance, No of Contacts, Days passed, PrevAttempts and Call Time have a good correlation with target feature\n",
    "- We cannot determined the feature selection only based on df.corr(). So I will get the feature based on the EDA.\n",
    "- in Object types of feature I will use Job, Marital, Education and outcome based on the EDA section"
   ]
  },
  {
   "cell_type": "markdown",
   "metadata": {},
   "source": [
    "### FEATURE ENGINEERING"
   ]
  },
  {
   "cell_type": "code",
   "execution_count": 291,
   "metadata": {
    "scrolled": false
   },
   "outputs": [],
   "source": [
    "# Convert last contact month to numerical\n",
    "df.loc[df['LastContactMonth']=='jan','LastContactMonth'] = 1\n",
    "df.loc[df['LastContactMonth']=='feb','LastContactMonth'] = 2\n",
    "df.loc[df['LastContactMonth']=='mar','LastContactMonth'] = 3\n",
    "df.loc[df['LastContactMonth']=='apr','LastContactMonth'] = 4\n",
    "df.loc[df['LastContactMonth']=='may','LastContactMonth'] = 5\n",
    "df.loc[df['LastContactMonth']=='jun','LastContactMonth'] = 6\n",
    "df.loc[df['LastContactMonth']=='jul','LastContactMonth'] = 7\n",
    "df.loc[df['LastContactMonth']=='aug','LastContactMonth'] = 8\n",
    "df.loc[df['LastContactMonth']=='sep','LastContactMonth'] = 9\n",
    "df.loc[df['LastContactMonth']=='oct','LastContactMonth'] = 10\n",
    "df.loc[df['LastContactMonth']=='nov','LastContactMonth'] = 11\n",
    "df.loc[df['LastContactMonth']=='dec','LastContactMonth'] = 12"
   ]
  },
  {
   "cell_type": "code",
   "execution_count": 292,
   "metadata": {},
   "outputs": [],
   "source": [
    "df['LastContactMonth'] = df['LastContactMonth'].astype('int64')\n",
    "# Convert into int64 types"
   ]
  },
  {
   "cell_type": "code",
   "execution_count": 293,
   "metadata": {},
   "outputs": [],
   "source": [
    "# Binning\n",
    "bin_month = [0,3,6,9,12]\n",
    "label_month = ['q1','q2','q3', 'q4']\n",
    "df['bin_month'] = pd.cut(df['LastContactMonth'], bins = bin_month, labels = label_month)"
   ]
  },
  {
   "cell_type": "code",
   "execution_count": 294,
   "metadata": {},
   "outputs": [
    {
     "data": {
      "text/html": [
       "<div>\n",
       "<style scoped>\n",
       "    .dataframe tbody tr th:only-of-type {\n",
       "        vertical-align: middle;\n",
       "    }\n",
       "\n",
       "    .dataframe tbody tr th {\n",
       "        vertical-align: top;\n",
       "    }\n",
       "\n",
       "    .dataframe thead th {\n",
       "        text-align: right;\n",
       "    }\n",
       "</style>\n",
       "<table border=\"1\" class=\"dataframe\">\n",
       "  <thead>\n",
       "    <tr style=\"text-align: right;\">\n",
       "      <th></th>\n",
       "      <th>Id</th>\n",
       "      <th>Age</th>\n",
       "      <th>Job</th>\n",
       "      <th>Marital</th>\n",
       "      <th>Education</th>\n",
       "      <th>Default</th>\n",
       "      <th>Balance</th>\n",
       "      <th>HHInsurance</th>\n",
       "      <th>CarLoan</th>\n",
       "      <th>Communication</th>\n",
       "      <th>LastContactDay</th>\n",
       "      <th>LastContactMonth</th>\n",
       "      <th>NoOfContacts</th>\n",
       "      <th>DaysPassed</th>\n",
       "      <th>PrevAttempts</th>\n",
       "      <th>Outcome</th>\n",
       "      <th>CallStart</th>\n",
       "      <th>CallEnd</th>\n",
       "      <th>CarInsurance</th>\n",
       "      <th>CallTime</th>\n",
       "      <th>balanse</th>\n",
       "      <th>bin_month</th>\n",
       "    </tr>\n",
       "  </thead>\n",
       "  <tbody>\n",
       "    <tr>\n",
       "      <th>0</th>\n",
       "      <td>1</td>\n",
       "      <td>32</td>\n",
       "      <td>management</td>\n",
       "      <td>single</td>\n",
       "      <td>tertiary</td>\n",
       "      <td>0</td>\n",
       "      <td>1218</td>\n",
       "      <td>1</td>\n",
       "      <td>0</td>\n",
       "      <td>telephone</td>\n",
       "      <td>28</td>\n",
       "      <td>1</td>\n",
       "      <td>2</td>\n",
       "      <td>-1</td>\n",
       "      <td>0</td>\n",
       "      <td>Not contacted</td>\n",
       "      <td>825</td>\n",
       "      <td>826</td>\n",
       "      <td>0</td>\n",
       "      <td>1</td>\n",
       "      <td>up to 1500$</td>\n",
       "      <td>q1</td>\n",
       "    </tr>\n",
       "    <tr>\n",
       "      <th>1</th>\n",
       "      <td>2</td>\n",
       "      <td>32</td>\n",
       "      <td>blue-collar</td>\n",
       "      <td>married</td>\n",
       "      <td>primary</td>\n",
       "      <td>0</td>\n",
       "      <td>1156</td>\n",
       "      <td>1</td>\n",
       "      <td>0</td>\n",
       "      <td>cellular</td>\n",
       "      <td>26</td>\n",
       "      <td>5</td>\n",
       "      <td>5</td>\n",
       "      <td>-1</td>\n",
       "      <td>0</td>\n",
       "      <td>Not contacted</td>\n",
       "      <td>889</td>\n",
       "      <td>892</td>\n",
       "      <td>0</td>\n",
       "      <td>3</td>\n",
       "      <td>up to 1500$</td>\n",
       "      <td>q2</td>\n",
       "    </tr>\n",
       "    <tr>\n",
       "      <th>2</th>\n",
       "      <td>3</td>\n",
       "      <td>29</td>\n",
       "      <td>management</td>\n",
       "      <td>single</td>\n",
       "      <td>tertiary</td>\n",
       "      <td>0</td>\n",
       "      <td>637</td>\n",
       "      <td>1</td>\n",
       "      <td>0</td>\n",
       "      <td>cellular</td>\n",
       "      <td>3</td>\n",
       "      <td>6</td>\n",
       "      <td>1</td>\n",
       "      <td>119</td>\n",
       "      <td>1</td>\n",
       "      <td>failure</td>\n",
       "      <td>990</td>\n",
       "      <td>996</td>\n",
       "      <td>1</td>\n",
       "      <td>6</td>\n",
       "      <td>up to 1000$</td>\n",
       "      <td>q2</td>\n",
       "    </tr>\n",
       "    <tr>\n",
       "      <th>3</th>\n",
       "      <td>4</td>\n",
       "      <td>25</td>\n",
       "      <td>student</td>\n",
       "      <td>single</td>\n",
       "      <td>primary</td>\n",
       "      <td>0</td>\n",
       "      <td>373</td>\n",
       "      <td>1</td>\n",
       "      <td>0</td>\n",
       "      <td>cellular</td>\n",
       "      <td>11</td>\n",
       "      <td>5</td>\n",
       "      <td>2</td>\n",
       "      <td>-1</td>\n",
       "      <td>0</td>\n",
       "      <td>Not contacted</td>\n",
       "      <td>726</td>\n",
       "      <td>740</td>\n",
       "      <td>1</td>\n",
       "      <td>14</td>\n",
       "      <td>up to 500$</td>\n",
       "      <td>q2</td>\n",
       "    </tr>\n",
       "    <tr>\n",
       "      <th>4</th>\n",
       "      <td>5</td>\n",
       "      <td>30</td>\n",
       "      <td>management</td>\n",
       "      <td>married</td>\n",
       "      <td>tertiary</td>\n",
       "      <td>0</td>\n",
       "      <td>2694</td>\n",
       "      <td>0</td>\n",
       "      <td>0</td>\n",
       "      <td>cellular</td>\n",
       "      <td>3</td>\n",
       "      <td>6</td>\n",
       "      <td>1</td>\n",
       "      <td>-1</td>\n",
       "      <td>0</td>\n",
       "      <td>Not contacted</td>\n",
       "      <td>875</td>\n",
       "      <td>878</td>\n",
       "      <td>0</td>\n",
       "      <td>3</td>\n",
       "      <td>above 2000$</td>\n",
       "      <td>q2</td>\n",
       "    </tr>\n",
       "  </tbody>\n",
       "</table>\n",
       "</div>"
      ],
      "text/plain": [
       "   Id  Age          Job  Marital Education  Default  Balance  HHInsurance  \\\n",
       "0   1   32   management   single  tertiary        0     1218            1   \n",
       "1   2   32  blue-collar  married   primary        0     1156            1   \n",
       "2   3   29   management   single  tertiary        0      637            1   \n",
       "3   4   25      student   single   primary        0      373            1   \n",
       "4   5   30   management  married  tertiary        0     2694            0   \n",
       "\n",
       "   CarLoan Communication  LastContactDay  LastContactMonth  NoOfContacts  \\\n",
       "0        0     telephone              28                 1             2   \n",
       "1        0      cellular              26                 5             5   \n",
       "2        0      cellular               3                 6             1   \n",
       "3        0      cellular              11                 5             2   \n",
       "4        0      cellular               3                 6             1   \n",
       "\n",
       "   DaysPassed  PrevAttempts        Outcome  CallStart  CallEnd  CarInsurance  \\\n",
       "0          -1             0  Not contacted        825      826             0   \n",
       "1          -1             0  Not contacted        889      892             0   \n",
       "2         119             1        failure        990      996             1   \n",
       "3          -1             0  Not contacted        726      740             1   \n",
       "4          -1             0  Not contacted        875      878             0   \n",
       "\n",
       "   CallTime      balanse bin_month  \n",
       "0         1  up to 1500$        q1  \n",
       "1         3  up to 1500$        q2  \n",
       "2         6  up to 1000$        q2  \n",
       "3        14   up to 500$        q2  \n",
       "4         3  above 2000$        q2  "
      ]
     },
     "execution_count": 294,
     "metadata": {},
     "output_type": "execute_result"
    }
   ],
   "source": [
    "df.head()"
   ]
  },
  {
   "cell_type": "markdown",
   "metadata": {},
   "source": [
    "### Recategorized"
   ]
  },
  {
   "cell_type": "code",
   "execution_count": 295,
   "metadata": {},
   "outputs": [],
   "source": [
    "df['job'] = df.loc[(df['Job']=='student') & (df['Job']=='retired') & (df['Job']=='unemployed'), 'Job'] = 'Not working'\n",
    "df['job'] = df.loc[(df['Job']=='self-employed') & (df['Job']=='entrepreneur') & (df['Job']=='housemaid') & (df['Job']=='blue-collar'), 'Job'] = 'Other Job'\n",
    "df['job'] = df.loc[(df['Job']=='management') & (df['Job']=='admin.') & (df['Job']=='technician') & (df['Job']=='services'), 'Job'] = 'Formal Job'"
   ]
  },
  {
   "cell_type": "code",
   "execution_count": 296,
   "metadata": {},
   "outputs": [
    {
     "data": {
      "text/html": [
       "<div>\n",
       "<style scoped>\n",
       "    .dataframe tbody tr th:only-of-type {\n",
       "        vertical-align: middle;\n",
       "    }\n",
       "\n",
       "    .dataframe tbody tr th {\n",
       "        vertical-align: top;\n",
       "    }\n",
       "\n",
       "    .dataframe thead th {\n",
       "        text-align: right;\n",
       "    }\n",
       "</style>\n",
       "<table border=\"1\" class=\"dataframe\">\n",
       "  <thead>\n",
       "    <tr style=\"text-align: right;\">\n",
       "      <th></th>\n",
       "      <th>Id</th>\n",
       "      <th>Age</th>\n",
       "      <th>Job</th>\n",
       "      <th>Marital</th>\n",
       "      <th>Education</th>\n",
       "      <th>Default</th>\n",
       "      <th>Balance</th>\n",
       "      <th>HHInsurance</th>\n",
       "      <th>CarLoan</th>\n",
       "      <th>Communication</th>\n",
       "      <th>LastContactDay</th>\n",
       "      <th>LastContactMonth</th>\n",
       "      <th>NoOfContacts</th>\n",
       "      <th>DaysPassed</th>\n",
       "      <th>PrevAttempts</th>\n",
       "      <th>Outcome</th>\n",
       "      <th>CallStart</th>\n",
       "      <th>CallEnd</th>\n",
       "      <th>CarInsurance</th>\n",
       "      <th>CallTime</th>\n",
       "      <th>balanse</th>\n",
       "      <th>bin_month</th>\n",
       "      <th>job</th>\n",
       "    </tr>\n",
       "  </thead>\n",
       "  <tbody>\n",
       "    <tr>\n",
       "      <th>0</th>\n",
       "      <td>1</td>\n",
       "      <td>32</td>\n",
       "      <td>management</td>\n",
       "      <td>single</td>\n",
       "      <td>tertiary</td>\n",
       "      <td>0</td>\n",
       "      <td>1218</td>\n",
       "      <td>1</td>\n",
       "      <td>0</td>\n",
       "      <td>telephone</td>\n",
       "      <td>28</td>\n",
       "      <td>1</td>\n",
       "      <td>2</td>\n",
       "      <td>-1</td>\n",
       "      <td>0</td>\n",
       "      <td>Not contacted</td>\n",
       "      <td>825</td>\n",
       "      <td>826</td>\n",
       "      <td>0</td>\n",
       "      <td>1</td>\n",
       "      <td>up to 1500$</td>\n",
       "      <td>q1</td>\n",
       "      <td>Formal Job</td>\n",
       "    </tr>\n",
       "    <tr>\n",
       "      <th>1</th>\n",
       "      <td>2</td>\n",
       "      <td>32</td>\n",
       "      <td>blue-collar</td>\n",
       "      <td>married</td>\n",
       "      <td>primary</td>\n",
       "      <td>0</td>\n",
       "      <td>1156</td>\n",
       "      <td>1</td>\n",
       "      <td>0</td>\n",
       "      <td>cellular</td>\n",
       "      <td>26</td>\n",
       "      <td>5</td>\n",
       "      <td>5</td>\n",
       "      <td>-1</td>\n",
       "      <td>0</td>\n",
       "      <td>Not contacted</td>\n",
       "      <td>889</td>\n",
       "      <td>892</td>\n",
       "      <td>0</td>\n",
       "      <td>3</td>\n",
       "      <td>up to 1500$</td>\n",
       "      <td>q2</td>\n",
       "      <td>Formal Job</td>\n",
       "    </tr>\n",
       "    <tr>\n",
       "      <th>2</th>\n",
       "      <td>3</td>\n",
       "      <td>29</td>\n",
       "      <td>management</td>\n",
       "      <td>single</td>\n",
       "      <td>tertiary</td>\n",
       "      <td>0</td>\n",
       "      <td>637</td>\n",
       "      <td>1</td>\n",
       "      <td>0</td>\n",
       "      <td>cellular</td>\n",
       "      <td>3</td>\n",
       "      <td>6</td>\n",
       "      <td>1</td>\n",
       "      <td>119</td>\n",
       "      <td>1</td>\n",
       "      <td>failure</td>\n",
       "      <td>990</td>\n",
       "      <td>996</td>\n",
       "      <td>1</td>\n",
       "      <td>6</td>\n",
       "      <td>up to 1000$</td>\n",
       "      <td>q2</td>\n",
       "      <td>Formal Job</td>\n",
       "    </tr>\n",
       "    <tr>\n",
       "      <th>3</th>\n",
       "      <td>4</td>\n",
       "      <td>25</td>\n",
       "      <td>student</td>\n",
       "      <td>single</td>\n",
       "      <td>primary</td>\n",
       "      <td>0</td>\n",
       "      <td>373</td>\n",
       "      <td>1</td>\n",
       "      <td>0</td>\n",
       "      <td>cellular</td>\n",
       "      <td>11</td>\n",
       "      <td>5</td>\n",
       "      <td>2</td>\n",
       "      <td>-1</td>\n",
       "      <td>0</td>\n",
       "      <td>Not contacted</td>\n",
       "      <td>726</td>\n",
       "      <td>740</td>\n",
       "      <td>1</td>\n",
       "      <td>14</td>\n",
       "      <td>up to 500$</td>\n",
       "      <td>q2</td>\n",
       "      <td>Formal Job</td>\n",
       "    </tr>\n",
       "    <tr>\n",
       "      <th>4</th>\n",
       "      <td>5</td>\n",
       "      <td>30</td>\n",
       "      <td>management</td>\n",
       "      <td>married</td>\n",
       "      <td>tertiary</td>\n",
       "      <td>0</td>\n",
       "      <td>2694</td>\n",
       "      <td>0</td>\n",
       "      <td>0</td>\n",
       "      <td>cellular</td>\n",
       "      <td>3</td>\n",
       "      <td>6</td>\n",
       "      <td>1</td>\n",
       "      <td>-1</td>\n",
       "      <td>0</td>\n",
       "      <td>Not contacted</td>\n",
       "      <td>875</td>\n",
       "      <td>878</td>\n",
       "      <td>0</td>\n",
       "      <td>3</td>\n",
       "      <td>above 2000$</td>\n",
       "      <td>q2</td>\n",
       "      <td>Formal Job</td>\n",
       "    </tr>\n",
       "  </tbody>\n",
       "</table>\n",
       "</div>"
      ],
      "text/plain": [
       "   Id  Age          Job  Marital Education  Default  Balance  HHInsurance  \\\n",
       "0   1   32   management   single  tertiary        0     1218            1   \n",
       "1   2   32  blue-collar  married   primary        0     1156            1   \n",
       "2   3   29   management   single  tertiary        0      637            1   \n",
       "3   4   25      student   single   primary        0      373            1   \n",
       "4   5   30   management  married  tertiary        0     2694            0   \n",
       "\n",
       "   CarLoan Communication  LastContactDay  LastContactMonth  NoOfContacts  \\\n",
       "0        0     telephone              28                 1             2   \n",
       "1        0      cellular              26                 5             5   \n",
       "2        0      cellular               3                 6             1   \n",
       "3        0      cellular              11                 5             2   \n",
       "4        0      cellular               3                 6             1   \n",
       "\n",
       "   DaysPassed  PrevAttempts        Outcome  CallStart  CallEnd  CarInsurance  \\\n",
       "0          -1             0  Not contacted        825      826             0   \n",
       "1          -1             0  Not contacted        889      892             0   \n",
       "2         119             1        failure        990      996             1   \n",
       "3          -1             0  Not contacted        726      740             1   \n",
       "4          -1             0  Not contacted        875      878             0   \n",
       "\n",
       "   CallTime      balanse bin_month         job  \n",
       "0         1  up to 1500$        q1  Formal Job  \n",
       "1         3  up to 1500$        q2  Formal Job  \n",
       "2         6  up to 1000$        q2  Formal Job  \n",
       "3        14   up to 500$        q2  Formal Job  \n",
       "4         3  above 2000$        q2  Formal Job  "
      ]
     },
     "execution_count": 296,
     "metadata": {},
     "output_type": "execute_result"
    }
   ],
   "source": [
    "df.head()"
   ]
  },
  {
   "cell_type": "markdown",
   "metadata": {},
   "source": [
    "#### LABEL ENCODING"
   ]
  },
  {
   "cell_type": "code",
   "execution_count": 297,
   "metadata": {},
   "outputs": [],
   "source": [
    "from sklearn.preprocessing import LabelEncoder"
   ]
  },
  {
   "cell_type": "code",
   "execution_count": 298,
   "metadata": {},
   "outputs": [],
   "source": [
    "df['Communication_encode'] = LabelEncoder().fit_transform(df['Communication'])"
   ]
  },
  {
   "cell_type": "code",
   "execution_count": 299,
   "metadata": {},
   "outputs": [
    {
     "data": {
      "text/plain": [
       "array(['up to 1500$', 'up to 1000$', 'up to 500$', 'above 2000$',\n",
       "       'up to 2000$'], dtype=object)"
      ]
     },
     "execution_count": 299,
     "metadata": {},
     "output_type": "execute_result"
    }
   ],
   "source": [
    "df['balanse'].unique()"
   ]
  },
  {
   "cell_type": "code",
   "execution_count": 300,
   "metadata": {},
   "outputs": [],
   "source": [
    "df['balanse_encode'] = df['balanse'].map({'up to 500$': 0, 'up to 1000$': 1, 'up to 1500$': 2, 'up to 2000$':3, 'above 2000$':4})"
   ]
  },
  {
   "cell_type": "markdown",
   "metadata": {},
   "source": [
    "#### ONE HOT ENCODING"
   ]
  },
  {
   "cell_type": "code",
   "execution_count": 301,
   "metadata": {},
   "outputs": [],
   "source": [
    "df = pd.get_dummies(df, columns=['job', 'bin_month','Marital','Education','Outcome'])"
   ]
  },
  {
   "cell_type": "code",
   "execution_count": 302,
   "metadata": {},
   "outputs": [
    {
     "data": {
      "text/plain": [
       "(3735, 26)"
      ]
     },
     "execution_count": 302,
     "metadata": {},
     "output_type": "execute_result"
    }
   ],
   "source": [
    "df.shape"
   ]
  },
  {
   "cell_type": "code",
   "execution_count": 303,
   "metadata": {},
   "outputs": [
    {
     "data": {
      "text/html": [
       "<div>\n",
       "<style scoped>\n",
       "    .dataframe tbody tr th:only-of-type {\n",
       "        vertical-align: middle;\n",
       "    }\n",
       "\n",
       "    .dataframe tbody tr th {\n",
       "        vertical-align: top;\n",
       "    }\n",
       "\n",
       "    .dataframe thead th {\n",
       "        text-align: right;\n",
       "    }\n",
       "</style>\n",
       "<table border=\"1\" class=\"dataframe\">\n",
       "  <thead>\n",
       "    <tr style=\"text-align: right;\">\n",
       "      <th></th>\n",
       "      <th>Id</th>\n",
       "      <th>Age</th>\n",
       "      <th>Job</th>\n",
       "      <th>Default</th>\n",
       "      <th>Balance</th>\n",
       "      <th>HHInsurance</th>\n",
       "      <th>CarLoan</th>\n",
       "      <th>Communication</th>\n",
       "      <th>LastContactDay</th>\n",
       "      <th>LastContactMonth</th>\n",
       "      <th>NoOfContacts</th>\n",
       "      <th>DaysPassed</th>\n",
       "      <th>PrevAttempts</th>\n",
       "      <th>Outcome</th>\n",
       "      <th>CallStart</th>\n",
       "      <th>CallEnd</th>\n",
       "      <th>CarInsurance</th>\n",
       "      <th>CallTime</th>\n",
       "      <th>balanse</th>\n",
       "      <th>bin_month</th>\n",
       "      <th>Communication_encode</th>\n",
       "      <th>balanse_encode</th>\n",
       "      <th>Marital_married</th>\n",
       "      <th>Marital_single</th>\n",
       "      <th>Education_secondary</th>\n",
       "      <th>Education_tertiary</th>\n",
       "    </tr>\n",
       "  </thead>\n",
       "  <tbody>\n",
       "    <tr>\n",
       "      <th>0</th>\n",
       "      <td>1</td>\n",
       "      <td>32</td>\n",
       "      <td>management</td>\n",
       "      <td>0</td>\n",
       "      <td>1218</td>\n",
       "      <td>1</td>\n",
       "      <td>0</td>\n",
       "      <td>telephone</td>\n",
       "      <td>28</td>\n",
       "      <td>1</td>\n",
       "      <td>2</td>\n",
       "      <td>-1</td>\n",
       "      <td>0</td>\n",
       "      <td>Not contacted</td>\n",
       "      <td>825</td>\n",
       "      <td>826</td>\n",
       "      <td>0</td>\n",
       "      <td>1</td>\n",
       "      <td>up to 1500$</td>\n",
       "      <td>q1</td>\n",
       "      <td>1</td>\n",
       "      <td>2</td>\n",
       "      <td>0</td>\n",
       "      <td>1</td>\n",
       "      <td>0</td>\n",
       "      <td>1</td>\n",
       "    </tr>\n",
       "    <tr>\n",
       "      <th>1</th>\n",
       "      <td>2</td>\n",
       "      <td>32</td>\n",
       "      <td>blue-collar</td>\n",
       "      <td>0</td>\n",
       "      <td>1156</td>\n",
       "      <td>1</td>\n",
       "      <td>0</td>\n",
       "      <td>cellular</td>\n",
       "      <td>26</td>\n",
       "      <td>5</td>\n",
       "      <td>5</td>\n",
       "      <td>-1</td>\n",
       "      <td>0</td>\n",
       "      <td>Not contacted</td>\n",
       "      <td>889</td>\n",
       "      <td>892</td>\n",
       "      <td>0</td>\n",
       "      <td>3</td>\n",
       "      <td>up to 1500$</td>\n",
       "      <td>q2</td>\n",
       "      <td>0</td>\n",
       "      <td>2</td>\n",
       "      <td>1</td>\n",
       "      <td>0</td>\n",
       "      <td>0</td>\n",
       "      <td>0</td>\n",
       "    </tr>\n",
       "    <tr>\n",
       "      <th>2</th>\n",
       "      <td>3</td>\n",
       "      <td>29</td>\n",
       "      <td>management</td>\n",
       "      <td>0</td>\n",
       "      <td>637</td>\n",
       "      <td>1</td>\n",
       "      <td>0</td>\n",
       "      <td>cellular</td>\n",
       "      <td>3</td>\n",
       "      <td>6</td>\n",
       "      <td>1</td>\n",
       "      <td>119</td>\n",
       "      <td>1</td>\n",
       "      <td>failure</td>\n",
       "      <td>990</td>\n",
       "      <td>996</td>\n",
       "      <td>1</td>\n",
       "      <td>6</td>\n",
       "      <td>up to 1000$</td>\n",
       "      <td>q2</td>\n",
       "      <td>0</td>\n",
       "      <td>1</td>\n",
       "      <td>0</td>\n",
       "      <td>1</td>\n",
       "      <td>0</td>\n",
       "      <td>1</td>\n",
       "    </tr>\n",
       "    <tr>\n",
       "      <th>3</th>\n",
       "      <td>4</td>\n",
       "      <td>25</td>\n",
       "      <td>student</td>\n",
       "      <td>0</td>\n",
       "      <td>373</td>\n",
       "      <td>1</td>\n",
       "      <td>0</td>\n",
       "      <td>cellular</td>\n",
       "      <td>11</td>\n",
       "      <td>5</td>\n",
       "      <td>2</td>\n",
       "      <td>-1</td>\n",
       "      <td>0</td>\n",
       "      <td>Not contacted</td>\n",
       "      <td>726</td>\n",
       "      <td>740</td>\n",
       "      <td>1</td>\n",
       "      <td>14</td>\n",
       "      <td>up to 500$</td>\n",
       "      <td>q2</td>\n",
       "      <td>0</td>\n",
       "      <td>0</td>\n",
       "      <td>0</td>\n",
       "      <td>1</td>\n",
       "      <td>0</td>\n",
       "      <td>0</td>\n",
       "    </tr>\n",
       "    <tr>\n",
       "      <th>4</th>\n",
       "      <td>5</td>\n",
       "      <td>30</td>\n",
       "      <td>management</td>\n",
       "      <td>0</td>\n",
       "      <td>2694</td>\n",
       "      <td>0</td>\n",
       "      <td>0</td>\n",
       "      <td>cellular</td>\n",
       "      <td>3</td>\n",
       "      <td>6</td>\n",
       "      <td>1</td>\n",
       "      <td>-1</td>\n",
       "      <td>0</td>\n",
       "      <td>Not contacted</td>\n",
       "      <td>875</td>\n",
       "      <td>878</td>\n",
       "      <td>0</td>\n",
       "      <td>3</td>\n",
       "      <td>above 2000$</td>\n",
       "      <td>q2</td>\n",
       "      <td>0</td>\n",
       "      <td>4</td>\n",
       "      <td>1</td>\n",
       "      <td>0</td>\n",
       "      <td>0</td>\n",
       "      <td>1</td>\n",
       "    </tr>\n",
       "  </tbody>\n",
       "</table>\n",
       "</div>"
      ],
      "text/plain": [
       "   Id  Age          Job  Default  Balance  HHInsurance  CarLoan Communication  \\\n",
       "0   1   32   management        0     1218            1        0     telephone   \n",
       "1   2   32  blue-collar        0     1156            1        0      cellular   \n",
       "2   3   29   management        0      637            1        0      cellular   \n",
       "3   4   25      student        0      373            1        0      cellular   \n",
       "4   5   30   management        0     2694            0        0      cellular   \n",
       "\n",
       "   LastContactDay  LastContactMonth  NoOfContacts  DaysPassed  PrevAttempts  \\\n",
       "0              28                 1             2          -1             0   \n",
       "1              26                 5             5          -1             0   \n",
       "2               3                 6             1         119             1   \n",
       "3              11                 5             2          -1             0   \n",
       "4               3                 6             1          -1             0   \n",
       "\n",
       "         Outcome  CallStart  CallEnd  CarInsurance  CallTime      balanse  \\\n",
       "0  Not contacted        825      826             0         1  up to 1500$   \n",
       "1  Not contacted        889      892             0         3  up to 1500$   \n",
       "2        failure        990      996             1         6  up to 1000$   \n",
       "3  Not contacted        726      740             1        14   up to 500$   \n",
       "4  Not contacted        875      878             0         3  above 2000$   \n",
       "\n",
       "  bin_month  Communication_encode  balanse_encode  Marital_married  \\\n",
       "0        q1                     1               2                0   \n",
       "1        q2                     0               2                1   \n",
       "2        q2                     0               1                0   \n",
       "3        q2                     0               0                0   \n",
       "4        q2                     0               4                1   \n",
       "\n",
       "   Marital_single  Education_secondary  Education_tertiary  \n",
       "0               1                    0                   1  \n",
       "1               0                    0                   0  \n",
       "2               1                    0                   1  \n",
       "3               1                    0                   0  \n",
       "4               0                    0                   1  "
      ]
     },
     "execution_count": 303,
     "metadata": {},
     "output_type": "execute_result"
    }
   ],
   "source": [
    "df.head()"
   ]
  },
  {
   "cell_type": "markdown",
   "metadata": {},
   "source": [
    "#### TRAIN TEST SPLIT"
   ]
  },
  {
   "cell_type": "code",
   "execution_count": 231,
   "metadata": {},
   "outputs": [],
   "source": [
    "from sklearn.model_selection import train_test_split, GridSearchCV, RandomizedSearchCV"
   ]
  },
  {
   "cell_type": "code",
   "execution_count": 404,
   "metadata": {},
   "outputs": [],
   "source": [
    "X = df.drop(columns=['Id','Communication','LastContactDay','CallStart','CallEnd','CarInsurance','balanse','Balance','Job','LastContactMonth'])\n",
    "y = df['CarInsurance']\n",
    "\n",
    "X_train, X_test, y_train, y_test = train_test_split(X, y, train_size=.85, stratify=y, random_state=666)\n",
    "\n",
    "# Memisah data untuk train sebanyak 85% dan test 15% dan stratify agar data yang diambil dari carInsurance 0 dan 1 sama banyak persentasenya."
   ]
  },
  {
   "cell_type": "code",
   "execution_count": 405,
   "metadata": {},
   "outputs": [
    {
     "name": "stdout",
     "output_type": "stream",
     "text": [
      "(3174, 12)\n",
      "(561, 12)\n"
     ]
    }
   ],
   "source": [
    "print(X_train.shape)\n",
    "print(X_test.shape)\n",
    "\n",
    "# cek jumlah data train dan test"
   ]
  },
  {
   "cell_type": "code",
   "execution_count": 406,
   "metadata": {},
   "outputs": [
    {
     "data": {
      "text/html": [
       "<div>\n",
       "<style scoped>\n",
       "    .dataframe tbody tr th:only-of-type {\n",
       "        vertical-align: middle;\n",
       "    }\n",
       "\n",
       "    .dataframe tbody tr th {\n",
       "        vertical-align: top;\n",
       "    }\n",
       "\n",
       "    .dataframe thead th {\n",
       "        text-align: right;\n",
       "    }\n",
       "</style>\n",
       "<table border=\"1\" class=\"dataframe\">\n",
       "  <thead>\n",
       "    <tr style=\"text-align: right;\">\n",
       "      <th></th>\n",
       "      <th>Age</th>\n",
       "      <th>HHInsurance</th>\n",
       "      <th>NoOfContacts</th>\n",
       "      <th>DaysPassed</th>\n",
       "      <th>PrevAttempts</th>\n",
       "      <th>CallTime</th>\n",
       "      <th>Communication_encode</th>\n",
       "      <th>balanse_encode</th>\n",
       "      <th>Marital_married</th>\n",
       "      <th>Marital_single</th>\n",
       "      <th>Education_secondary</th>\n",
       "      <th>Education_tertiary</th>\n",
       "    </tr>\n",
       "  </thead>\n",
       "  <tbody>\n",
       "    <tr>\n",
       "      <th>498</th>\n",
       "      <td>72</td>\n",
       "      <td>0</td>\n",
       "      <td>5</td>\n",
       "      <td>184</td>\n",
       "      <td>3</td>\n",
       "      <td>19</td>\n",
       "      <td>0</td>\n",
       "      <td>4</td>\n",
       "      <td>1</td>\n",
       "      <td>0</td>\n",
       "      <td>1</td>\n",
       "      <td>0</td>\n",
       "    </tr>\n",
       "    <tr>\n",
       "      <th>1251</th>\n",
       "      <td>26</td>\n",
       "      <td>0</td>\n",
       "      <td>2</td>\n",
       "      <td>-1</td>\n",
       "      <td>0</td>\n",
       "      <td>3</td>\n",
       "      <td>0</td>\n",
       "      <td>0</td>\n",
       "      <td>0</td>\n",
       "      <td>1</td>\n",
       "      <td>0</td>\n",
       "      <td>1</td>\n",
       "    </tr>\n",
       "    <tr>\n",
       "      <th>3337</th>\n",
       "      <td>28</td>\n",
       "      <td>0</td>\n",
       "      <td>41</td>\n",
       "      <td>-1</td>\n",
       "      <td>0</td>\n",
       "      <td>0</td>\n",
       "      <td>0</td>\n",
       "      <td>1</td>\n",
       "      <td>0</td>\n",
       "      <td>1</td>\n",
       "      <td>1</td>\n",
       "      <td>0</td>\n",
       "    </tr>\n",
       "    <tr>\n",
       "      <th>103</th>\n",
       "      <td>52</td>\n",
       "      <td>0</td>\n",
       "      <td>1</td>\n",
       "      <td>-1</td>\n",
       "      <td>0</td>\n",
       "      <td>5</td>\n",
       "      <td>0</td>\n",
       "      <td>0</td>\n",
       "      <td>1</td>\n",
       "      <td>0</td>\n",
       "      <td>0</td>\n",
       "      <td>1</td>\n",
       "    </tr>\n",
       "    <tr>\n",
       "      <th>2308</th>\n",
       "      <td>25</td>\n",
       "      <td>0</td>\n",
       "      <td>1</td>\n",
       "      <td>-1</td>\n",
       "      <td>0</td>\n",
       "      <td>5</td>\n",
       "      <td>0</td>\n",
       "      <td>0</td>\n",
       "      <td>0</td>\n",
       "      <td>1</td>\n",
       "      <td>1</td>\n",
       "      <td>0</td>\n",
       "    </tr>\n",
       "  </tbody>\n",
       "</table>\n",
       "</div>"
      ],
      "text/plain": [
       "      Age  HHInsurance  NoOfContacts  DaysPassed  PrevAttempts  CallTime  \\\n",
       "498    72            0             5         184             3        19   \n",
       "1251   26            0             2          -1             0         3   \n",
       "3337   28            0            41          -1             0         0   \n",
       "103    52            0             1          -1             0         5   \n",
       "2308   25            0             1          -1             0         5   \n",
       "\n",
       "      Communication_encode  balanse_encode  Marital_married  Marital_single  \\\n",
       "498                      0               4                1               0   \n",
       "1251                     0               0                0               1   \n",
       "3337                     0               1                0               1   \n",
       "103                      0               0                1               0   \n",
       "2308                     0               0                0               1   \n",
       "\n",
       "      Education_secondary  Education_tertiary  \n",
       "498                     1                   0  \n",
       "1251                    0                   1  \n",
       "3337                    1                   0  \n",
       "103                     0                   1  \n",
       "2308                    1                   0  "
      ]
     },
     "execution_count": 406,
     "metadata": {},
     "output_type": "execute_result"
    }
   ],
   "source": [
    "X_train.head()"
   ]
  },
  {
   "cell_type": "markdown",
   "metadata": {},
   "source": [
    "## Machine Learning Modelling\n",
    "\n",
    "- The Model will focus on recall 1, to reduce the error of machine predicted not interested but actual interested.\n",
    "\n",
    "#### Logistic Regression"
   ]
  },
  {
   "cell_type": "code",
   "execution_count": 407,
   "metadata": {},
   "outputs": [],
   "source": [
    "from sklearn.linear_model import LogisticRegression"
   ]
  },
  {
   "cell_type": "code",
   "execution_count": 408,
   "metadata": {},
   "outputs": [],
   "source": [
    "modelLR = LogisticRegression()"
   ]
  },
  {
   "cell_type": "code",
   "execution_count": 409,
   "metadata": {},
   "outputs": [
    {
     "name": "stderr",
     "output_type": "stream",
     "text": [
      "C:\\Users\\ASUS\\anaconda3\\lib\\site-packages\\sklearn\\linear_model\\_logistic.py:762: ConvergenceWarning: lbfgs failed to converge (status=1):\n",
      "STOP: TOTAL NO. of ITERATIONS REACHED LIMIT.\n",
      "\n",
      "Increase the number of iterations (max_iter) or scale the data as shown in:\n",
      "    https://scikit-learn.org/stable/modules/preprocessing.html\n",
      "Please also refer to the documentation for alternative solver options:\n",
      "    https://scikit-learn.org/stable/modules/linear_model.html#logistic-regression\n",
      "  n_iter_i = _check_optimize_result(\n"
     ]
    }
   ],
   "source": [
    "modelLR.fit(X_train, y_train)\n",
    "y_predLR = modelLR.predict(X_test)"
   ]
  },
  {
   "cell_type": "code",
   "execution_count": 410,
   "metadata": {},
   "outputs": [],
   "source": [
    "from sklearn.metrics import classification_report, confusion_matrix, recall_score, precision_score, accuracy_score"
   ]
  },
  {
   "cell_type": "code",
   "execution_count": 411,
   "metadata": {},
   "outputs": [
    {
     "name": "stdout",
     "output_type": "stream",
     "text": [
      "              precision    recall  f1-score   support\n",
      "\n",
      "           0       0.79      0.85      0.82       329\n",
      "           1       0.77      0.68      0.72       232\n",
      "\n",
      "    accuracy                           0.78       561\n",
      "   macro avg       0.78      0.77      0.77       561\n",
      "weighted avg       0.78      0.78      0.78       561\n",
      "\n"
     ]
    }
   ],
   "source": [
    "print(classification_report(y_test, y_predLR))\n",
    "\n",
    "# The Recall 1 score is 71% with the accuracy score of 81%\n",
    "# Since the Goals is to reduce the error of machine predicting not interested but actual interested so I will try to increase the recall%"
   ]
  },
  {
   "cell_type": "code",
   "execution_count": 412,
   "metadata": {},
   "outputs": [],
   "source": [
    "# accuracy_score(y_test, y_predLR)"
   ]
  },
  {
   "cell_type": "code",
   "execution_count": 413,
   "metadata": {},
   "outputs": [
    {
     "data": {
      "image/png": "[encoded data removed]",
      "text/plain": [
       "<Figure size 432x288 with 2 Axes>"
      ]
     },
     "metadata": {
      "needs_background": "dark"
     },
     "output_type": "display_data"
    }
   ],
   "source": [
    "cm_LR = confusion_matrix(y_test, y_predLR, labels=[1,0])\n",
    "df_LR = pd.DataFrame(data=cm_LR, index=['akt 1', 'akt 0'], columns=['pred 1', 'pred 0'])\n",
    "sns.heatmap(df_LR, annot=True, fmt='d');\n",
    "plt.ylabel('Aktual')\n",
    "plt.xlabel('Prediksi')\n",
    "plt.show()\n",
    "\n",
    "# data 561 jumlah test data, Jumlah FN 75 dan FP 48, yang artinya machine menebak tidak tertarik tetapi aktual tertarik sejumlah 75 data"
   ]
  },
  {
   "cell_type": "code",
   "execution_count": 414,
   "metadata": {},
   "outputs": [],
   "source": [
    "# df1.head()"
   ]
  },
  {
   "cell_type": "code",
   "execution_count": 415,
   "metadata": {},
   "outputs": [],
   "source": [
    "# df1 = pd.get_dummies(df1, columns=['Job', 'bin_month','Marital','Education','Outcome'])"
   ]
  },
  {
   "cell_type": "code",
   "execution_count": 416,
   "metadata": {},
   "outputs": [],
   "source": [
    "# X = df1.drop(columns=['Id','Communication','LastContactDay','CallStart','CallEnd','CarInsurance','balanse','Balance'])\n",
    "# y = df1['CarInsurance']\n",
    "\n",
    "# X_train, X_test, y_train, y_test = train_test_split(X, y, train_size=.85, stratify=y, random_state=666)"
   ]
  },
  {
   "cell_type": "markdown",
   "metadata": {},
   "source": [
    "#### Random Forest"
   ]
  },
  {
   "cell_type": "code",
   "execution_count": 417,
   "metadata": {},
   "outputs": [],
   "source": [
    "from sklearn.ensemble import RandomForestClassifier"
   ]
  },
  {
   "cell_type": "code",
   "execution_count": 418,
   "metadata": {},
   "outputs": [
    {
     "name": "stdout",
     "output_type": "stream",
     "text": [
      "Wall time: 319 ms\n"
     ]
    },
    {
     "data": {
      "text/plain": [
       "RandomForestClassifier()"
      ]
     },
     "execution_count": 418,
     "metadata": {},
     "output_type": "execute_result"
    }
   ],
   "source": [
    "%%time\n",
    "model_rf = RandomForestClassifier()\n",
    "model_rf.fit(X_train, y_train)"
   ]
  },
  {
   "cell_type": "code",
   "execution_count": 419,
   "metadata": {},
   "outputs": [
    {
     "name": "stdout",
     "output_type": "stream",
     "text": [
      "Wall time: 84 ms\n"
     ]
    }
   ],
   "source": [
    "%%time\n",
    "y_base_RF = model_rf.predict(X_test)\n",
    "y_base_train = model_rf.predict(X_train)"
   ]
  },
  {
   "cell_type": "code",
   "execution_count": 420,
   "metadata": {},
   "outputs": [
    {
     "name": "stdout",
     "output_type": "stream",
     "text": [
      "              precision    recall  f1-score   support\n",
      "\n",
      "           0       0.81      0.84      0.83       329\n",
      "           1       0.76      0.73      0.75       232\n",
      "\n",
      "    accuracy                           0.80       561\n",
      "   macro avg       0.79      0.79      0.79       561\n",
      "weighted avg       0.79      0.80      0.79       561\n",
      "\n"
     ]
    }
   ],
   "source": [
    "cm_base_rf = confusion_matrix(y_test, y_base_RF, labels=[1,0])\n",
    "df_base_rf = pd.DataFrame(data=cm_base_rf, index=['Akt 1', 'Akt 0'], columns=['Pred 1', 'Pred 0'])\n",
    "print(classification_report(y_test, y_base_RF));\n",
    "\n",
    "# Dengan menggunakan model Random Forest Recall score naik dibanding dengan logistic regression\n",
    "# tingkat akurasi juga naik dibanding Logistic Regression"
   ]
  },
  {
   "cell_type": "code",
   "execution_count": 421,
   "metadata": {},
   "outputs": [
    {
     "data": {
      "image/png": "[encoded data removed]",
      "text/plain": [
       "<Figure size 432x288 with 2 Axes>"
      ]
     },
     "metadata": {
      "needs_background": "dark"
     },
     "output_type": "display_data"
    }
   ],
   "source": [
    "sns.heatmap(df_base_rf, annot=True,fmt='d');\n",
    "plt.ylabel('Aktual')\n",
    "plt.xlabel('Prediksi')\n",
    "plt.show()\n",
    "\n",
    "# dari 561 jumlah data machine menebak client tidak tertarik padahal aktualnya tertarik sebanyak 42 kali\n",
    "# dan menebak client tertarik aktualnya tidak tertarik sebanyak 63 kali"
   ]
  },
  {
   "cell_type": "markdown",
   "metadata": {},
   "source": [
    "#### XGB"
   ]
  },
  {
   "cell_type": "code",
   "execution_count": 422,
   "metadata": {},
   "outputs": [],
   "source": [
    "import xgboost as xgb\n",
    "from xgboost import XGBClassifier"
   ]
  },
  {
   "cell_type": "code",
   "execution_count": 423,
   "metadata": {},
   "outputs": [
    {
     "name": "stdout",
     "output_type": "stream",
     "text": [
      "Wall time: 138 ms\n"
     ]
    }
   ],
   "source": [
    "%%time\n",
    "model_xgb = XGBClassifier()\n",
    "model_xgb.fit(X_train, y_train)\n",
    "y_base_XGB = model_xgb.predict(X_test)\n",
    "y_xgb_train = model_xgb.predict(X_train)"
   ]
  },
  {
   "cell_type": "code",
   "execution_count": 424,
   "metadata": {},
   "outputs": [
    {
     "name": "stdout",
     "output_type": "stream",
     "text": [
      "              precision    recall  f1-score   support\n",
      "\n",
      "           0       0.81      0.83      0.82       329\n",
      "           1       0.75      0.73      0.74       232\n",
      "\n",
      "    accuracy                           0.79       561\n",
      "   macro avg       0.78      0.78      0.78       561\n",
      "weighted avg       0.79      0.79      0.79       561\n",
      "\n"
     ]
    }
   ],
   "source": [
    "cm_base_xgb = confusion_matrix(y_test, y_base_XGB, labels=[1,0])\n",
    "df_base_xgb = pd.DataFrame(data=cm_base_xgb, index=['Akt 1', 'Akt 0'], columns=['Pred 1', 'Pred 0'])\n",
    "print(classification_report(y_test, y_base_XGB));\n",
    "\n",
    "# Menggunakan Model XGB juga terlihat recall score lebih baik dibanding Logistic Regression dan kurang sedikit dibanding RF\n",
    "# Begitu pula dengan accuracy scorenya"
   ]
  },
  {
   "cell_type": "code",
   "execution_count": 425,
   "metadata": {},
   "outputs": [
    {
     "data": {
      "image/png": "[encoded data removed]",
      "text/plain": [
       "<Figure size 432x288 with 2 Axes>"
      ]
     },
     "metadata": {
      "needs_background": "dark"
     },
     "output_type": "display_data"
    }
   ],
   "source": [
    "sns.heatmap(df_base_xgb, annot=True,fmt='d');\n",
    "plt.ylabel('Aktual')\n",
    "plt.xlabel('Prediksi')\n",
    "plt.show()\n",
    "\n",
    "# dari 561 jumlah data machine menebak client tidak tertarik padahal aktualnya tertarik sebanyak 45 kali\n",
    "# dan menebak client tertarik aktualnya tidak tertarik sebanyak 63 kali"
   ]
  },
  {
   "cell_type": "markdown",
   "metadata": {},
   "source": [
    "## HYPER PARAMETER TUNING"
   ]
  },
  {
   "cell_type": "code",
   "execution_count": 426,
   "metadata": {},
   "outputs": [],
   "source": [
    "#### Logistic Regression HPT"
   ]
  },
  {
   "cell_type": "code",
   "execution_count": 427,
   "metadata": {},
   "outputs": [],
   "source": [
    "LR = LogisticRegression()"
   ]
  },
  {
   "cell_type": "code",
   "execution_count": 487,
   "metadata": {},
   "outputs": [],
   "source": [
    "param_LR = {'penalty':['l1', 'l2', 'elasticnet', 'none'],\n",
    "            'max_iter': [100,200,1000],\n",
    "            'C': [1],\n",
    "            'tol': [0.0001,0.0005]\n",
    "           }"
   ]
  },
  {
   "cell_type": "code",
   "execution_count": 488,
   "metadata": {},
   "outputs": [
    {
     "name": "stdout",
     "output_type": "stream",
     "text": [
      "Fitting 5 folds for each of 24 candidates, totalling 120 fits\n"
     ]
    },
    {
     "name": "stderr",
     "output_type": "stream",
     "text": [
      "[Parallel(n_jobs=-1)]: Using backend LokyBackend with 8 concurrent workers.\n",
      "[Parallel(n_jobs=-1)]: Done  56 tasks      | elapsed:    0.3s\n",
      "[Parallel(n_jobs=-1)]: Done 120 out of 120 | elapsed:    1.9s finished\n",
      "C:\\Users\\ASUS\\anaconda3\\lib\\site-packages\\sklearn\\linear_model\\_logistic.py:762: ConvergenceWarning: lbfgs failed to converge (status=1):\n",
      "STOP: TOTAL NO. of ITERATIONS REACHED LIMIT.\n",
      "\n",
      "Increase the number of iterations (max_iter) or scale the data as shown in:\n",
      "    https://scikit-learn.org/stable/modules/preprocessing.html\n",
      "Please also refer to the documentation for alternative solver options:\n",
      "    https://scikit-learn.org/stable/modules/linear_model.html#logistic-regression\n",
      "  n_iter_i = _check_optimize_result(\n"
     ]
    },
    {
     "data": {
      "text/plain": [
       "GridSearchCV(cv=5, estimator=LogisticRegression(), n_jobs=-1,\n",
       "             param_grid={'C': [1], 'max_iter': [100, 200, 1000],\n",
       "                         'penalty': ['l1', 'l2', 'elasticnet', 'none'],\n",
       "                         'tol': [0.0001, 0.0005]},\n",
       "             scoring='recall', verbose=1)"
      ]
     },
     "execution_count": 488,
     "metadata": {},
     "output_type": "execute_result"
    }
   ],
   "source": [
    "Tune_LR = GridSearchCV(LR, param_grid=param_LR, cv= 5, n_jobs= -1, verbose= 1, scoring='recall')\n",
    "Tune_LR.fit(X_train, y_train) "
   ]
  },
  {
   "cell_type": "code",
   "execution_count": 489,
   "metadata": {},
   "outputs": [
    {
     "data": {
      "text/plain": [
       "{'C': 1, 'max_iter': 100, 'penalty': 'l2', 'tol': 0.0001}"
      ]
     },
     "execution_count": 489,
     "metadata": {},
     "output_type": "execute_result"
    }
   ],
   "source": [
    "Tune_LR.best_params_"
   ]
  },
  {
   "cell_type": "code",
   "execution_count": 490,
   "metadata": {},
   "outputs": [
    {
     "name": "stdout",
     "output_type": "stream",
     "text": [
      "              precision    recall  f1-score   support\n",
      "\n",
      "           0       0.79      0.85      0.82       329\n",
      "           1       0.77      0.68      0.72       232\n",
      "\n",
      "    accuracy                           0.78       561\n",
      "   macro avg       0.78      0.77      0.77       561\n",
      "weighted avg       0.78      0.78      0.78       561\n",
      "\n"
     ]
    },
    {
     "data": {
      "image/png": "[encoded data removed]",
      "text/plain": [
       "<Figure size 432x288 with 2 Axes>"
      ]
     },
     "metadata": {
      "needs_background": "dark"
     },
     "output_type": "display_data"
    }
   ],
   "source": [
    "model_Tune_LR = Tune_LR.best_estimator_\n",
    "y_tune_lr = model_Tune_LR.predict(X_test)\n",
    "cm_tune_lr = confusion_matrix(y_test, y_tune_lr, labels=[1,0])\n",
    "df_tune_lr = pd.DataFrame(data=cm_tune_lr, index=['Akt 1', 'Akt 0'], columns=['Pred 1', 'Pred 0'])\n",
    "print(classification_report(y_test, y_tune_lr));\n",
    "sns.heatmap(df_tune_lr, annot=True,fmt='d');\n",
    "plt.ylabel('Aktual')\n",
    "plt.xlabel('Prediksi')\n",
    "plt.show()\n",
    "\n",
    "# Setelah dituning terlihat dari confusion matrix bahwa fn sedikit berkurang hanya 1 poin."
   ]
  },
  {
   "cell_type": "markdown",
   "metadata": {},
   "source": [
    "#### Random Forest HPT"
   ]
  },
  {
   "cell_type": "code",
   "execution_count": 436,
   "metadata": {},
   "outputs": [],
   "source": [
    "RF_tuned = RandomForestClassifier()\n",
    "param_RF = {'n_estimators': [100,2000,5000],\n",
    "            'max_depth': [None,5,7,8],\n",
    "            'min_samples_split': [2,10,20],\n",
    "            'max_features': ['auto',5],\n",
    "           }"
   ]
  },
  {
   "cell_type": "code",
   "execution_count": 437,
   "metadata": {},
   "outputs": [
    {
     "name": "stdout",
     "output_type": "stream",
     "text": [
      "Fitting 5 folds for each of 10 candidates, totalling 50 fits\n"
     ]
    },
    {
     "name": "stderr",
     "output_type": "stream",
     "text": [
      "[Parallel(n_jobs=-1)]: Using backend LokyBackend with 8 concurrent workers.\n",
      "[Parallel(n_jobs=-1)]: Done  34 tasks      | elapsed:   31.0s\n",
      "[Parallel(n_jobs=-1)]: Done  50 out of  50 | elapsed:  1.0min finished\n"
     ]
    },
    {
     "data": {
      "text/plain": [
       "RandomizedSearchCV(cv=5, estimator=RandomForestClassifier(), n_jobs=-1,\n",
       "                   param_distributions={'max_depth': [None, 5, 7, 8],\n",
       "                                        'max_features': ['auto', 5],\n",
       "                                        'min_samples_split': [2, 10, 20],\n",
       "                                        'n_estimators': [100, 2000, 5000]},\n",
       "                   scoring='recall', verbose=1)"
      ]
     },
     "execution_count": 437,
     "metadata": {},
     "output_type": "execute_result"
    }
   ],
   "source": [
    "model_RF = RandomizedSearchCV(RF_tuned, param_distributions=param_RF, cv= 5, n_jobs= -1, verbose= 1, scoring='recall')\n",
    "model_RF.fit(X_train, y_train) "
   ]
  },
  {
   "cell_type": "code",
   "execution_count": 438,
   "metadata": {},
   "outputs": [
    {
     "data": {
      "text/plain": [
       "{'n_estimators': 2000,\n",
       " 'min_samples_split': 20,\n",
       " 'max_features': 5,\n",
       " 'max_depth': None}"
      ]
     },
     "execution_count": 438,
     "metadata": {},
     "output_type": "execute_result"
    }
   ],
   "source": [
    "model_RF.best_params_"
   ]
  },
  {
   "cell_type": "code",
   "execution_count": 439,
   "metadata": {},
   "outputs": [
    {
     "name": "stdout",
     "output_type": "stream",
     "text": [
      "              precision    recall  f1-score   support\n",
      "\n",
      "           0       0.83      0.87      0.85       329\n",
      "           1       0.80      0.75      0.77       232\n",
      "\n",
      "    accuracy                           0.82       561\n",
      "   macro avg       0.81      0.81      0.81       561\n",
      "weighted avg       0.82      0.82      0.82       561\n",
      "\n"
     ]
    },
    {
     "data": {
      "image/png": "[encoded data removed]",
      "text/plain": [
       "<Figure size 432x288 with 2 Axes>"
      ]
     },
     "metadata": {
      "needs_background": "dark"
     },
     "output_type": "display_data"
    }
   ],
   "source": [
    "model_tuned_RF = model_RF.best_estimator_\n",
    "y_tune_rf = model_tuned_RF.predict(X_test)\n",
    "cm_tune_rf = confusion_matrix(y_test, y_tune_rf, labels=[1,0])\n",
    "df_tune_rf = pd.DataFrame(data=cm_tune_rf, index=['Akt 1', 'Akt 0'], columns=['Pred 1', 'Pred 0'])\n",
    "print(classification_report(y_test, y_tune_rf));\n",
    "sns.heatmap(df_tune_rf, annot=True,fmt='d');\n",
    "plt.ylabel('Aktual')\n",
    "plt.xlabel('Prediksi')\n",
    "plt.show()"
   ]
  },
  {
   "cell_type": "code",
   "execution_count": 440,
   "metadata": {},
   "outputs": [
    {
     "name": "stdout",
     "output_type": "stream",
     "text": [
      "0.8651543793320731\n",
      "0.8181818181818182\n"
     ]
    }
   ],
   "source": [
    "y_tune_rf_train = model_tuned_RF.predict(X_train)\n",
    "print(accuracy_score(y_train, y_tune_rf_train))\n",
    "print(accuracy_score(y_test, y_tune_rf))"
   ]
  },
  {
   "cell_type": "markdown",
   "metadata": {},
   "source": [
    "### XGB HPT"
   ]
  },
  {
   "cell_type": "code",
   "execution_count": 492,
   "metadata": {},
   "outputs": [],
   "source": [
    "XGB_Tuned = XGBClassifier()\n",
    "param_xgb = {'max_depth': [6,1],\n",
    "             'learning_rate': [0.300000012,0.600000012] , \n",
    "             'n_estimators': [1000], \n",
    "             'gamma': [0,.5], \n",
    "             'colsample_bytree': [1,0.5],\n",
    "             'subsample': [1], \n",
    "             'reg_alpha':[0,0.5] ,\n",
    "             'reg_lambda': [1,0.8]}"
   ]
  },
  {
   "cell_type": "code",
   "execution_count": 493,
   "metadata": {},
   "outputs": [
    {
     "name": "stdout",
     "output_type": "stream",
     "text": [
      "Fitting 5 folds for each of 10 candidates, totalling 50 fits\n"
     ]
    },
    {
     "name": "stderr",
     "output_type": "stream",
     "text": [
      "[Parallel(n_jobs=-1)]: Using backend LokyBackend with 8 concurrent workers.\n",
      "[Parallel(n_jobs=-1)]: Done  34 tasks      | elapsed:   11.6s\n",
      "[Parallel(n_jobs=-1)]: Done  50 out of  50 | elapsed:   15.2s finished\n"
     ]
    },
    {
     "data": {
      "text/plain": [
       "RandomizedSearchCV(cv=5,\n",
       "                   estimator=XGBClassifier(base_score=None, booster=None,\n",
       "                                           colsample_bylevel=None,\n",
       "                                           colsample_bynode=None,\n",
       "                                           colsample_bytree=None, gamma=None,\n",
       "                                           gpu_id=None, importance_type='gain',\n",
       "                                           interaction_constraints=None,\n",
       "                                           learning_rate=None,\n",
       "                                           max_delta_step=None, max_depth=None,\n",
       "                                           min_child_weight=None, missing=nan,\n",
       "                                           monotone_constraints=None,\n",
       "                                           n_estimators=100,...\n",
       "                                           reg_lambda=None,\n",
       "                                           scale_pos_weight=None,\n",
       "                                           subsample=None, tree_method=None,\n",
       "                                           validate_parameters=None,\n",
       "                                           verbosity=None),\n",
       "                   n_jobs=-1,\n",
       "                   param_distributions={'colsample_bytree': [1, 0.5],\n",
       "                                        'gamma': [0, 0.5],\n",
       "                                        'learning_rate': [0.300000012,\n",
       "                                                          0.600000012],\n",
       "                                        'max_depth': [6, 1],\n",
       "                                        'n_estimators': [1000],\n",
       "                                        'reg_alpha': [0, 0.5],\n",
       "                                        'reg_lambda': [1, 0.8],\n",
       "                                        'subsample': [1]},\n",
       "                   scoring='recall', verbose=1)"
      ]
     },
     "execution_count": 493,
     "metadata": {},
     "output_type": "execute_result"
    }
   ],
   "source": [
    "model_XGB = RandomizedSearchCV(XGB_Tuned, param_distributions=param_xgb, cv= 5, n_jobs= -1, verbose= 1, scoring='recall')\n",
    "model_XGB.fit(X_train, y_train)"
   ]
  },
  {
   "cell_type": "code",
   "execution_count": 494,
   "metadata": {},
   "outputs": [
    {
     "data": {
      "text/plain": [
       "{'subsample': 1,\n",
       " 'reg_lambda': 1,\n",
       " 'reg_alpha': 0.5,\n",
       " 'n_estimators': 1000,\n",
       " 'max_depth': 6,\n",
       " 'learning_rate': 0.300000012,\n",
       " 'gamma': 0,\n",
       " 'colsample_bytree': 1}"
      ]
     },
     "execution_count": 494,
     "metadata": {},
     "output_type": "execute_result"
    }
   ],
   "source": [
    "model_XGB.best_params_"
   ]
  },
  {
   "cell_type": "code",
   "execution_count": 495,
   "metadata": {},
   "outputs": [
    {
     "name": "stdout",
     "output_type": "stream",
     "text": [
      "              precision    recall  f1-score   support\n",
      "\n",
      "           0       0.82      0.84      0.83       329\n",
      "           1       0.76      0.74      0.75       232\n",
      "\n",
      "    accuracy                           0.80       561\n",
      "   macro avg       0.79      0.79      0.79       561\n",
      "weighted avg       0.79      0.80      0.79       561\n",
      "\n"
     ]
    },
    {
     "data": {
      "image/png": "[encoded data removed]",
      "text/plain": [
       "<Figure size 432x288 with 2 Axes>"
      ]
     },
     "metadata": {
      "needs_background": "dark"
     },
     "output_type": "display_data"
    }
   ],
   "source": [
    "model_tuned_XGB = model_XGB.best_estimator_\n",
    "y_tune_xgb = model_tuned_XGB.predict(X_test)\n",
    "cm_tune_xgb = confusion_matrix(y_test, y_tune_xgb, labels=[1,0])\n",
    "df_tune_xgb = pd.DataFrame(data=cm_tune_xgb, index=['Akt 1', 'Akt 0'], columns=['Pred 1', 'Pred 0'])\n",
    "print(classification_report(y_test, y_tune_xgb));\n",
    "sns.heatmap(df_tune_xgb, annot=True,fmt='d');\n",
    "plt.ylabel('Aktual')\n",
    "plt.xlabel('Prediksi')\n",
    "plt.show()"
   ]
  },
  {
   "cell_type": "code",
   "execution_count": 496,
   "metadata": {},
   "outputs": [
    {
     "name": "stdout",
     "output_type": "stream",
     "text": [
      "0.9880277252678009\n",
      "0.7950089126559715\n"
     ]
    }
   ],
   "source": [
    "y_tune_xgb_train = model_tuned_XGB.predict(X_train)\n",
    "print(accuracy_score(y_train, y_tune_xgb_train))\n",
    "print(accuracy_score(y_test, y_tune_xgb))"
   ]
  },
  {
   "cell_type": "code",
   "execution_count": 497,
   "metadata": {},
   "outputs": [],
   "source": [
    "LRbase = recall_score(y_test, y_predLR)\n",
    "RF_base = recall_score(y_test, y_base_RF)\n",
    "XGB_base = recall_score(y_test, y_base_XGB)\n",
    "LR_tuned = recall_score(y_test, y_tune_lr)\n",
    "RF_tuned = recall_score(y_test, y_tune_rf)\n",
    "XGB_tuned = recall_score(y_test, y_tune_xgb)"
   ]
  },
  {
   "cell_type": "code",
   "execution_count": 498,
   "metadata": {},
   "outputs": [
    {
     "data": {
      "text/html": [
       "<div>\n",
       "<style scoped>\n",
       "    .dataframe tbody tr th:only-of-type {\n",
       "        vertical-align: middle;\n",
       "    }\n",
       "\n",
       "    .dataframe tbody tr th {\n",
       "        vertical-align: top;\n",
       "    }\n",
       "\n",
       "    .dataframe thead th {\n",
       "        text-align: right;\n",
       "    }\n",
       "</style>\n",
       "<table border=\"1\" class=\"dataframe\">\n",
       "  <thead>\n",
       "    <tr style=\"text-align: right;\">\n",
       "      <th></th>\n",
       "      <th>Recall Score</th>\n",
       "    </tr>\n",
       "  </thead>\n",
       "  <tbody>\n",
       "    <tr>\n",
       "      <th>RF_tuned</th>\n",
       "      <td>0.745690</td>\n",
       "    </tr>\n",
       "    <tr>\n",
       "      <th>XGB_tuned</th>\n",
       "      <td>0.737069</td>\n",
       "    </tr>\n",
       "    <tr>\n",
       "      <th>RF</th>\n",
       "      <td>0.728448</td>\n",
       "    </tr>\n",
       "    <tr>\n",
       "      <th>XGB</th>\n",
       "      <td>0.728448</td>\n",
       "    </tr>\n",
       "    <tr>\n",
       "      <th>LR</th>\n",
       "      <td>0.676724</td>\n",
       "    </tr>\n",
       "    <tr>\n",
       "      <th>LR_tuned</th>\n",
       "      <td>0.676724</td>\n",
       "    </tr>\n",
       "  </tbody>\n",
       "</table>\n",
       "</div>"
      ],
      "text/plain": [
       "           Recall Score\n",
       "RF_tuned       0.745690\n",
       "XGB_tuned      0.737069\n",
       "RF             0.728448\n",
       "XGB            0.728448\n",
       "LR             0.676724\n",
       "LR_tuned       0.676724"
      ]
     },
     "execution_count": 498,
     "metadata": {},
     "output_type": "execute_result"
    }
   ],
   "source": [
    "data={\n",
    "    'LR': [LRbase],\n",
    "    'RF': [RF_base],\n",
    "    'XGB': [XGB_base],\n",
    "    'LR_tuned': [LR_tuned],\n",
    "    'RF_tuned': [RF_tuned],\n",
    "    'XGB_tuned': [XGB_tuned]\n",
    "}\n",
    "\n",
    "(pd.DataFrame(data, index=['Recall Score']).T).sort_values('Recall Score',ascending=False)"
   ]
  },
  {
   "cell_type": "code",
   "execution_count": null,
   "metadata": {},
   "outputs": [],
   "source": []
  },
  {
   "cell_type": "markdown",
   "metadata": {},
   "source": [
    "## CONCLUSION\n",
    "\n",
    "The highest Recall Score coming from Random Forest with Hyper parameter Tuning and the accuracy also the highest compared to other model\n",
    "\n",
    "- Client with occupation of Students and retired and balance below $500 are more likely to \n"
   ]
  },
  {
   "cell_type": "markdown",
   "metadata": {},
   "source": [
    "## DEPLOY\n"
   ]
  },
  {
   "cell_type": "code",
   "execution_count": 500,
   "metadata": {},
   "outputs": [],
   "source": [
    "import joblib"
   ]
  },
  {
   "cell_type": "code",
   "execution_count": 501,
   "metadata": {},
   "outputs": [
    {
     "data": {
      "text/plain": [
       "['ModelCarInsurance']"
      ]
     },
     "execution_count": 501,
     "metadata": {},
     "output_type": "execute_result"
    }
   ],
   "source": [
    "joblib.dump(model_tuned_RF, 'ModelCarInsurance')"
   ]
  },
  {
   "cell_type": "code",
   "execution_count": null,
   "metadata": {},
   "outputs": [],
   "source": []
  }
 ],
 "metadata": {
  "kernelspec": {
   "display_name": "Python 3",
   "language": "python",
   "name": "python3"
  },
  "language_info": {
   "codemirror_mode": {
    "name": "ipython",
    "version": 3
   },
   "file_extension": ".py",
   "mimetype": "text/x-python",
   "name": "python",
   "nbconvert_exporter": "python",
   "pygments_lexer": "ipython3",
   "version": "3.8.3"
  }
 },
 "nbformat": 4,
 "nbformat_minor": 4
}
