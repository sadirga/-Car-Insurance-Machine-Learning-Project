{
 "cells": [
  {
   "cell_type": "markdown",
   "metadata": {},
   "source": [
    "Import Common Packages"
   ]
  },
  {
   "cell_type": "code",
   "execution_count": 6,
   "metadata": {},
   "outputs": [],
   "source": [
    "import pandas as pd\n",
    "import numpy as np\n",
    "import seaborn as sns\n",
    "import matplotlib.pyplot as plt\n",
    "from jupyterthemes import jtplot\n",
    "jtplot.style(theme='monokai', context='notebook', ticks=True, grid=False)\n",
    "\n",
    "%matplotlib inline"
   ]
  },
  {
   "cell_type": "code",
   "execution_count": 879,
   "metadata": {},
   "outputs": [],
   "source": [
    "# Read Data\n",
    "\n",
    "df=pd.read_csv('InsuranceClean.csv')\n",
    "df1=df.copy()"
   ]
  },
  {
   "cell_type": "code",
   "execution_count": 880,
   "metadata": {},
   "outputs": [],
   "source": [
    "pd.options.display.max_columns = 99"
   ]
  },
  {
   "cell_type": "code",
   "execution_count": 881,
   "metadata": {},
   "outputs": [
    {
     "data": {
      "text/html": [
       "<div>\n",
       "<style scoped>\n",
       "    .dataframe tbody tr th:only-of-type {\n",
       "        vertical-align: middle;\n",
       "    }\n",
       "\n",
       "    .dataframe tbody tr th {\n",
       "        vertical-align: top;\n",
       "    }\n",
       "\n",
       "    .dataframe thead th {\n",
       "        text-align: right;\n",
       "    }\n",
       "</style>\n",
       "<table border=\"1\" class=\"dataframe\">\n",
       "  <thead>\n",
       "    <tr style=\"text-align: right;\">\n",
       "      <th></th>\n",
       "      <th>Id</th>\n",
       "      <th>Age</th>\n",
       "      <th>Job</th>\n",
       "      <th>Marital</th>\n",
       "      <th>Education</th>\n",
       "      <th>Default</th>\n",
       "      <th>Balance</th>\n",
       "      <th>HHInsurance</th>\n",
       "      <th>CarLoan</th>\n",
       "      <th>Communication</th>\n",
       "      <th>LastContactDay</th>\n",
       "      <th>LastContactMonth</th>\n",
       "      <th>NoOfContacts</th>\n",
       "      <th>DaysPassed</th>\n",
       "      <th>PrevAttempts</th>\n",
       "      <th>Outcome</th>\n",
       "      <th>CallStart</th>\n",
       "      <th>CallEnd</th>\n",
       "      <th>CarInsurance</th>\n",
       "      <th>CallTime</th>\n",
       "      <th>balanse</th>\n",
       "    </tr>\n",
       "  </thead>\n",
       "  <tbody>\n",
       "    <tr>\n",
       "      <th>0</th>\n",
       "      <td>1</td>\n",
       "      <td>32</td>\n",
       "      <td>management</td>\n",
       "      <td>single</td>\n",
       "      <td>tertiary</td>\n",
       "      <td>0</td>\n",
       "      <td>1218</td>\n",
       "      <td>1</td>\n",
       "      <td>0</td>\n",
       "      <td>telephone</td>\n",
       "      <td>28</td>\n",
       "      <td>jan</td>\n",
       "      <td>2</td>\n",
       "      <td>-1</td>\n",
       "      <td>0</td>\n",
       "      <td>Not contacted</td>\n",
       "      <td>825</td>\n",
       "      <td>826</td>\n",
       "      <td>0</td>\n",
       "      <td>1</td>\n",
       "      <td>up to 1500$</td>\n",
       "    </tr>\n",
       "    <tr>\n",
       "      <th>1</th>\n",
       "      <td>2</td>\n",
       "      <td>32</td>\n",
       "      <td>blue-collar</td>\n",
       "      <td>married</td>\n",
       "      <td>primary</td>\n",
       "      <td>0</td>\n",
       "      <td>1156</td>\n",
       "      <td>1</td>\n",
       "      <td>0</td>\n",
       "      <td>cellular</td>\n",
       "      <td>26</td>\n",
       "      <td>may</td>\n",
       "      <td>5</td>\n",
       "      <td>-1</td>\n",
       "      <td>0</td>\n",
       "      <td>Not contacted</td>\n",
       "      <td>889</td>\n",
       "      <td>892</td>\n",
       "      <td>0</td>\n",
       "      <td>3</td>\n",
       "      <td>up to 1500$</td>\n",
       "    </tr>\n",
       "    <tr>\n",
       "      <th>2</th>\n",
       "      <td>3</td>\n",
       "      <td>29</td>\n",
       "      <td>management</td>\n",
       "      <td>single</td>\n",
       "      <td>tertiary</td>\n",
       "      <td>0</td>\n",
       "      <td>637</td>\n",
       "      <td>1</td>\n",
       "      <td>0</td>\n",
       "      <td>cellular</td>\n",
       "      <td>3</td>\n",
       "      <td>jun</td>\n",
       "      <td>1</td>\n",
       "      <td>119</td>\n",
       "      <td>1</td>\n",
       "      <td>failure</td>\n",
       "      <td>990</td>\n",
       "      <td>996</td>\n",
       "      <td>1</td>\n",
       "      <td>6</td>\n",
       "      <td>up to 1000$</td>\n",
       "    </tr>\n",
       "    <tr>\n",
       "      <th>3</th>\n",
       "      <td>4</td>\n",
       "      <td>25</td>\n",
       "      <td>student</td>\n",
       "      <td>single</td>\n",
       "      <td>primary</td>\n",
       "      <td>0</td>\n",
       "      <td>373</td>\n",
       "      <td>1</td>\n",
       "      <td>0</td>\n",
       "      <td>cellular</td>\n",
       "      <td>11</td>\n",
       "      <td>may</td>\n",
       "      <td>2</td>\n",
       "      <td>-1</td>\n",
       "      <td>0</td>\n",
       "      <td>Not contacted</td>\n",
       "      <td>726</td>\n",
       "      <td>740</td>\n",
       "      <td>1</td>\n",
       "      <td>14</td>\n",
       "      <td>up to 500$</td>\n",
       "    </tr>\n",
       "    <tr>\n",
       "      <th>4</th>\n",
       "      <td>5</td>\n",
       "      <td>30</td>\n",
       "      <td>management</td>\n",
       "      <td>married</td>\n",
       "      <td>tertiary</td>\n",
       "      <td>0</td>\n",
       "      <td>2694</td>\n",
       "      <td>0</td>\n",
       "      <td>0</td>\n",
       "      <td>cellular</td>\n",
       "      <td>3</td>\n",
       "      <td>jun</td>\n",
       "      <td>1</td>\n",
       "      <td>-1</td>\n",
       "      <td>0</td>\n",
       "      <td>Not contacted</td>\n",
       "      <td>875</td>\n",
       "      <td>878</td>\n",
       "      <td>0</td>\n",
       "      <td>3</td>\n",
       "      <td>above 2000$</td>\n",
       "    </tr>\n",
       "  </tbody>\n",
       "</table>\n",
       "</div>"
      ],
      "text/plain": [
       "   Id  Age          Job  Marital Education  Default  Balance  HHInsurance  \\\n",
       "0   1   32   management   single  tertiary        0     1218            1   \n",
       "1   2   32  blue-collar  married   primary        0     1156            1   \n",
       "2   3   29   management   single  tertiary        0      637            1   \n",
       "3   4   25      student   single   primary        0      373            1   \n",
       "4   5   30   management  married  tertiary        0     2694            0   \n",
       "\n",
       "   CarLoan Communication  LastContactDay LastContactMonth  NoOfContacts  \\\n",
       "0        0     telephone              28              jan             2   \n",
       "1        0      cellular              26              may             5   \n",
       "2        0      cellular               3              jun             1   \n",
       "3        0      cellular              11              may             2   \n",
       "4        0      cellular               3              jun             1   \n",
       "\n",
       "   DaysPassed  PrevAttempts        Outcome  CallStart  CallEnd  CarInsurance  \\\n",
       "0          -1             0  Not contacted        825      826             0   \n",
       "1          -1             0  Not contacted        889      892             0   \n",
       "2         119             1        failure        990      996             1   \n",
       "3          -1             0  Not contacted        726      740             1   \n",
       "4          -1             0  Not contacted        875      878             0   \n",
       "\n",
       "   CallTime      balanse  \n",
       "0         1  up to 1500$  \n",
       "1         3  up to 1500$  \n",
       "2         6  up to 1000$  \n",
       "3        14   up to 500$  \n",
       "4         3  above 2000$  "
      ]
     },
     "execution_count": 881,
     "metadata": {},
     "output_type": "execute_result"
    }
   ],
   "source": [
    "df.head()"
   ]
  },
  {
   "cell_type": "markdown",
   "metadata": {},
   "source": [
    "## DATA PREPARATION"
   ]
  },
  {
   "cell_type": "markdown",
   "metadata": {},
   "source": [
    "### Feature Selection"
   ]
  },
  {
   "cell_type": "code",
   "execution_count": 882,
   "metadata": {},
   "outputs": [
    {
     "data": {
      "text/plain": [
       "<matplotlib.axes._subplots.AxesSubplot at 0x1c457f2e6a0>"
      ]
     },
     "execution_count": 882,
     "metadata": {},
     "output_type": "execute_result"
    },
    {
     "data": {
      "image/png": "[encoded data removed]",
      "text/plain": [
       "<Figure size 1296x576 with 2 Axes>"
      ]
     },
     "metadata": {
      "needs_background": "dark"
     },
     "output_type": "display_data"
    }
   ],
   "source": [
    "plt.figure(figsize=(18,8))\n",
    "sns.heatmap(df.corr(), annot=True)"
   ]
  },
  {
   "cell_type": "markdown",
   "metadata": {},
   "source": [
    "- Checking Correlation between target feature with other numerical features.\n",
    "### Initial Hypothesis\n",
    "- HHInsurance, No of Contacts, Days passed, PrevAttempts and Call Time have a good correlation with target feature\n",
    "- We cannot determined the feature selection only based on df.corr(). So I will get the feature based on the EDA.\n",
    "- in Object types of feature I will use Job, Marital, Education and outcome based on the EDA section"
   ]
  },
  {
   "cell_type": "markdown",
   "metadata": {},
   "source": [
    "### FEATURE ENGINEERING"
   ]
  },
  {
   "cell_type": "code",
   "execution_count": 883,
   "metadata": {
    "scrolled": false
   },
   "outputs": [],
   "source": [
    "# Convert last contact month to numerical\n",
    "df.loc[df['LastContactMonth']=='jan','LastContactMonth'] = 1\n",
    "df.loc[df['LastContactMonth']=='feb','LastContactMonth'] = 2\n",
    "df.loc[df['LastContactMonth']=='mar','LastContactMonth'] = 3\n",
    "df.loc[df['LastContactMonth']=='apr','LastContactMonth'] = 4\n",
    "df.loc[df['LastContactMonth']=='may','LastContactMonth'] = 5\n",
    "df.loc[df['LastContactMonth']=='jun','LastContactMonth'] = 6\n",
    "df.loc[df['LastContactMonth']=='jul','LastContactMonth'] = 7\n",
    "df.loc[df['LastContactMonth']=='aug','LastContactMonth'] = 8\n",
    "df.loc[df['LastContactMonth']=='sep','LastContactMonth'] = 9\n",
    "df.loc[df['LastContactMonth']=='oct','LastContactMonth'] = 10\n",
    "df.loc[df['LastContactMonth']=='nov','LastContactMonth'] = 11\n",
    "df.loc[df['LastContactMonth']=='dec','LastContactMonth'] = 12"
   ]
  },
  {
   "cell_type": "code",
   "execution_count": 884,
   "metadata": {},
   "outputs": [],
   "source": [
    "df['LastContactMonth'] = df['LastContactMonth'].astype('int64')\n",
    "# Convert into int64 types"
   ]
  },
  {
   "cell_type": "code",
   "execution_count": 885,
   "metadata": {},
   "outputs": [],
   "source": [
    "# Binning\n",
    "bin_month = [0,3,6,9,12]\n",
    "label_month = ['q1','q2','q3', 'q4']\n",
    "df['bin_month'] = pd.cut(df['LastContactMonth'], bins = bin_month, labels = label_month)"
   ]
  },
  {
   "cell_type": "code",
   "execution_count": 886,
   "metadata": {},
   "outputs": [
    {
     "data": {
      "text/html": [
       "<div>\n",
       "<style scoped>\n",
       "    .dataframe tbody tr th:only-of-type {\n",
       "        vertical-align: middle;\n",
       "    }\n",
       "\n",
       "    .dataframe tbody tr th {\n",
       "        vertical-align: top;\n",
       "    }\n",
       "\n",
       "    .dataframe thead th {\n",
       "        text-align: right;\n",
       "    }\n",
       "</style>\n",
       "<table border=\"1\" class=\"dataframe\">\n",
       "  <thead>\n",
       "    <tr style=\"text-align: right;\">\n",
       "      <th></th>\n",
       "      <th>Id</th>\n",
       "      <th>Age</th>\n",
       "      <th>Job</th>\n",
       "      <th>Marital</th>\n",
       "      <th>Education</th>\n",
       "      <th>Default</th>\n",
       "      <th>Balance</th>\n",
       "      <th>HHInsurance</th>\n",
       "      <th>CarLoan</th>\n",
       "      <th>Communication</th>\n",
       "      <th>LastContactDay</th>\n",
       "      <th>LastContactMonth</th>\n",
       "      <th>NoOfContacts</th>\n",
       "      <th>DaysPassed</th>\n",
       "      <th>PrevAttempts</th>\n",
       "      <th>Outcome</th>\n",
       "      <th>CallStart</th>\n",
       "      <th>CallEnd</th>\n",
       "      <th>CarInsurance</th>\n",
       "      <th>CallTime</th>\n",
       "      <th>balanse</th>\n",
       "      <th>bin_month</th>\n",
       "    </tr>\n",
       "  </thead>\n",
       "  <tbody>\n",
       "    <tr>\n",
       "      <th>0</th>\n",
       "      <td>1</td>\n",
       "      <td>32</td>\n",
       "      <td>management</td>\n",
       "      <td>single</td>\n",
       "      <td>tertiary</td>\n",
       "      <td>0</td>\n",
       "      <td>1218</td>\n",
       "      <td>1</td>\n",
       "      <td>0</td>\n",
       "      <td>telephone</td>\n",
       "      <td>28</td>\n",
       "      <td>1</td>\n",
       "      <td>2</td>\n",
       "      <td>-1</td>\n",
       "      <td>0</td>\n",
       "      <td>Not contacted</td>\n",
       "      <td>825</td>\n",
       "      <td>826</td>\n",
       "      <td>0</td>\n",
       "      <td>1</td>\n",
       "      <td>up to 1500$</td>\n",
       "      <td>q1</td>\n",
       "    </tr>\n",
       "    <tr>\n",
       "      <th>1</th>\n",
       "      <td>2</td>\n",
       "      <td>32</td>\n",
       "      <td>blue-collar</td>\n",
       "      <td>married</td>\n",
       "      <td>primary</td>\n",
       "      <td>0</td>\n",
       "      <td>1156</td>\n",
       "      <td>1</td>\n",
       "      <td>0</td>\n",
       "      <td>cellular</td>\n",
       "      <td>26</td>\n",
       "      <td>5</td>\n",
       "      <td>5</td>\n",
       "      <td>-1</td>\n",
       "      <td>0</td>\n",
       "      <td>Not contacted</td>\n",
       "      <td>889</td>\n",
       "      <td>892</td>\n",
       "      <td>0</td>\n",
       "      <td>3</td>\n",
       "      <td>up to 1500$</td>\n",
       "      <td>q2</td>\n",
       "    </tr>\n",
       "    <tr>\n",
       "      <th>2</th>\n",
       "      <td>3</td>\n",
       "      <td>29</td>\n",
       "      <td>management</td>\n",
       "      <td>single</td>\n",
       "      <td>tertiary</td>\n",
       "      <td>0</td>\n",
       "      <td>637</td>\n",
       "      <td>1</td>\n",
       "      <td>0</td>\n",
       "      <td>cellular</td>\n",
       "      <td>3</td>\n",
       "      <td>6</td>\n",
       "      <td>1</td>\n",
       "      <td>119</td>\n",
       "      <td>1</td>\n",
       "      <td>failure</td>\n",
       "      <td>990</td>\n",
       "      <td>996</td>\n",
       "      <td>1</td>\n",
       "      <td>6</td>\n",
       "      <td>up to 1000$</td>\n",
       "      <td>q2</td>\n",
       "    </tr>\n",
       "    <tr>\n",
       "      <th>3</th>\n",
       "      <td>4</td>\n",
       "      <td>25</td>\n",
       "      <td>student</td>\n",
       "      <td>single</td>\n",
       "      <td>primary</td>\n",
       "      <td>0</td>\n",
       "      <td>373</td>\n",
       "      <td>1</td>\n",
       "      <td>0</td>\n",
       "      <td>cellular</td>\n",
       "      <td>11</td>\n",
       "      <td>5</td>\n",
       "      <td>2</td>\n",
       "      <td>-1</td>\n",
       "      <td>0</td>\n",
       "      <td>Not contacted</td>\n",
       "      <td>726</td>\n",
       "      <td>740</td>\n",
       "      <td>1</td>\n",
       "      <td>14</td>\n",
       "      <td>up to 500$</td>\n",
       "      <td>q2</td>\n",
       "    </tr>\n",
       "    <tr>\n",
       "      <th>4</th>\n",
       "      <td>5</td>\n",
       "      <td>30</td>\n",
       "      <td>management</td>\n",
       "      <td>married</td>\n",
       "      <td>tertiary</td>\n",
       "      <td>0</td>\n",
       "      <td>2694</td>\n",
       "      <td>0</td>\n",
       "      <td>0</td>\n",
       "      <td>cellular</td>\n",
       "      <td>3</td>\n",
       "      <td>6</td>\n",
       "      <td>1</td>\n",
       "      <td>-1</td>\n",
       "      <td>0</td>\n",
       "      <td>Not contacted</td>\n",
       "      <td>875</td>\n",
       "      <td>878</td>\n",
       "      <td>0</td>\n",
       "      <td>3</td>\n",
       "      <td>above 2000$</td>\n",
       "      <td>q2</td>\n",
       "    </tr>\n",
       "  </tbody>\n",
       "</table>\n",
       "</div>"
      ],
      "text/plain": [
       "   Id  Age          Job  Marital Education  Default  Balance  HHInsurance  \\\n",
       "0   1   32   management   single  tertiary        0     1218            1   \n",
       "1   2   32  blue-collar  married   primary        0     1156            1   \n",
       "2   3   29   management   single  tertiary        0      637            1   \n",
       "3   4   25      student   single   primary        0      373            1   \n",
       "4   5   30   management  married  tertiary        0     2694            0   \n",
       "\n",
       "   CarLoan Communication  LastContactDay  LastContactMonth  NoOfContacts  \\\n",
       "0        0     telephone              28                 1             2   \n",
       "1        0      cellular              26                 5             5   \n",
       "2        0      cellular               3                 6             1   \n",
       "3        0      cellular              11                 5             2   \n",
       "4        0      cellular               3                 6             1   \n",
       "\n",
       "   DaysPassed  PrevAttempts        Outcome  CallStart  CallEnd  CarInsurance  \\\n",
       "0          -1             0  Not contacted        825      826             0   \n",
       "1          -1             0  Not contacted        889      892             0   \n",
       "2         119             1        failure        990      996             1   \n",
       "3          -1             0  Not contacted        726      740             1   \n",
       "4          -1             0  Not contacted        875      878             0   \n",
       "\n",
       "   CallTime      balanse bin_month  \n",
       "0         1  up to 1500$        q1  \n",
       "1         3  up to 1500$        q2  \n",
       "2         6  up to 1000$        q2  \n",
       "3        14   up to 500$        q2  \n",
       "4         3  above 2000$        q2  "
      ]
     },
     "execution_count": 886,
     "metadata": {},
     "output_type": "execute_result"
    }
   ],
   "source": [
    "df.head()"
   ]
  },
  {
   "cell_type": "markdown",
   "metadata": {},
   "source": [
    "### Recategorized"
   ]
  },
  {
   "cell_type": "code",
   "execution_count": 887,
   "metadata": {},
   "outputs": [],
   "source": [
    "df.loc[(df['Job']=='student') | (df['Job']=='retired') | (df['Job']=='unemployed'), 'Job'] = 'Not Working'"
   ]
  },
  {
   "cell_type": "code",
   "execution_count": 888,
   "metadata": {},
   "outputs": [],
   "source": [
    "df.loc[(df['Job']=='self-employed') | (df['Job']=='entrepreneur') | (df['Job']=='housemaid') | (df['Job']=='blue-collar'), 'Job'] = 'Other Job'"
   ]
  },
  {
   "cell_type": "code",
   "execution_count": 889,
   "metadata": {},
   "outputs": [],
   "source": [
    "df.loc[(df['Job']=='management') | (df['Job']=='admin.') | (df['Job']=='technician') | (df['Job']=='services'), 'Job'] = 'Formal Job'"
   ]
  },
  {
   "cell_type": "code",
   "execution_count": 867,
   "metadata": {},
   "outputs": [
    {
     "data": {
      "text/html": [
       "<div>\n",
       "<style scoped>\n",
       "    .dataframe tbody tr th:only-of-type {\n",
       "        vertical-align: middle;\n",
       "    }\n",
       "\n",
       "    .dataframe tbody tr th {\n",
       "        vertical-align: top;\n",
       "    }\n",
       "\n",
       "    .dataframe thead th {\n",
       "        text-align: right;\n",
       "    }\n",
       "</style>\n",
       "<table border=\"1\" class=\"dataframe\">\n",
       "  <thead>\n",
       "    <tr style=\"text-align: right;\">\n",
       "      <th></th>\n",
       "      <th>Id</th>\n",
       "      <th>Age</th>\n",
       "      <th>Job</th>\n",
       "      <th>Marital</th>\n",
       "      <th>Education</th>\n",
       "      <th>Default</th>\n",
       "      <th>Balance</th>\n",
       "      <th>HHInsurance</th>\n",
       "      <th>CarLoan</th>\n",
       "      <th>Communication</th>\n",
       "      <th>LastContactDay</th>\n",
       "      <th>LastContactMonth</th>\n",
       "      <th>NoOfContacts</th>\n",
       "      <th>DaysPassed</th>\n",
       "      <th>PrevAttempts</th>\n",
       "      <th>Outcome</th>\n",
       "      <th>CallStart</th>\n",
       "      <th>CallEnd</th>\n",
       "      <th>CarInsurance</th>\n",
       "      <th>CallTime</th>\n",
       "      <th>balanse</th>\n",
       "      <th>bin_month</th>\n",
       "    </tr>\n",
       "  </thead>\n",
       "  <tbody>\n",
       "    <tr>\n",
       "      <th>0</th>\n",
       "      <td>1</td>\n",
       "      <td>32</td>\n",
       "      <td>Formal Job</td>\n",
       "      <td>single</td>\n",
       "      <td>tertiary</td>\n",
       "      <td>0</td>\n",
       "      <td>1218</td>\n",
       "      <td>1</td>\n",
       "      <td>0</td>\n",
       "      <td>telephone</td>\n",
       "      <td>28</td>\n",
       "      <td>1</td>\n",
       "      <td>2</td>\n",
       "      <td>-1</td>\n",
       "      <td>0</td>\n",
       "      <td>Not contacted</td>\n",
       "      <td>825</td>\n",
       "      <td>826</td>\n",
       "      <td>0</td>\n",
       "      <td>1</td>\n",
       "      <td>up to 1500$</td>\n",
       "      <td>q1</td>\n",
       "    </tr>\n",
       "    <tr>\n",
       "      <th>1</th>\n",
       "      <td>2</td>\n",
       "      <td>32</td>\n",
       "      <td>Other Job</td>\n",
       "      <td>married</td>\n",
       "      <td>primary</td>\n",
       "      <td>0</td>\n",
       "      <td>1156</td>\n",
       "      <td>1</td>\n",
       "      <td>0</td>\n",
       "      <td>cellular</td>\n",
       "      <td>26</td>\n",
       "      <td>5</td>\n",
       "      <td>5</td>\n",
       "      <td>-1</td>\n",
       "      <td>0</td>\n",
       "      <td>Not contacted</td>\n",
       "      <td>889</td>\n",
       "      <td>892</td>\n",
       "      <td>0</td>\n",
       "      <td>3</td>\n",
       "      <td>up to 1500$</td>\n",
       "      <td>q2</td>\n",
       "    </tr>\n",
       "    <tr>\n",
       "      <th>2</th>\n",
       "      <td>3</td>\n",
       "      <td>29</td>\n",
       "      <td>Formal Job</td>\n",
       "      <td>single</td>\n",
       "      <td>tertiary</td>\n",
       "      <td>0</td>\n",
       "      <td>637</td>\n",
       "      <td>1</td>\n",
       "      <td>0</td>\n",
       "      <td>cellular</td>\n",
       "      <td>3</td>\n",
       "      <td>6</td>\n",
       "      <td>1</td>\n",
       "      <td>119</td>\n",
       "      <td>1</td>\n",
       "      <td>failure</td>\n",
       "      <td>990</td>\n",
       "      <td>996</td>\n",
       "      <td>1</td>\n",
       "      <td>6</td>\n",
       "      <td>up to 1000$</td>\n",
       "      <td>q2</td>\n",
       "    </tr>\n",
       "    <tr>\n",
       "      <th>3</th>\n",
       "      <td>4</td>\n",
       "      <td>25</td>\n",
       "      <td>Not Working</td>\n",
       "      <td>single</td>\n",
       "      <td>primary</td>\n",
       "      <td>0</td>\n",
       "      <td>373</td>\n",
       "      <td>1</td>\n",
       "      <td>0</td>\n",
       "      <td>cellular</td>\n",
       "      <td>11</td>\n",
       "      <td>5</td>\n",
       "      <td>2</td>\n",
       "      <td>-1</td>\n",
       "      <td>0</td>\n",
       "      <td>Not contacted</td>\n",
       "      <td>726</td>\n",
       "      <td>740</td>\n",
       "      <td>1</td>\n",
       "      <td>14</td>\n",
       "      <td>up to 500$</td>\n",
       "      <td>q2</td>\n",
       "    </tr>\n",
       "    <tr>\n",
       "      <th>4</th>\n",
       "      <td>5</td>\n",
       "      <td>30</td>\n",
       "      <td>Formal Job</td>\n",
       "      <td>married</td>\n",
       "      <td>tertiary</td>\n",
       "      <td>0</td>\n",
       "      <td>2694</td>\n",
       "      <td>0</td>\n",
       "      <td>0</td>\n",
       "      <td>cellular</td>\n",
       "      <td>3</td>\n",
       "      <td>6</td>\n",
       "      <td>1</td>\n",
       "      <td>-1</td>\n",
       "      <td>0</td>\n",
       "      <td>Not contacted</td>\n",
       "      <td>875</td>\n",
       "      <td>878</td>\n",
       "      <td>0</td>\n",
       "      <td>3</td>\n",
       "      <td>above 2000$</td>\n",
       "      <td>q2</td>\n",
       "    </tr>\n",
       "  </tbody>\n",
       "</table>\n",
       "</div>"
      ],
      "text/plain": [
       "   Id  Age          Job  Marital Education  Default  Balance  HHInsurance  \\\n",
       "0   1   32   Formal Job   single  tertiary        0     1218            1   \n",
       "1   2   32    Other Job  married   primary        0     1156            1   \n",
       "2   3   29   Formal Job   single  tertiary        0      637            1   \n",
       "3   4   25  Not Working   single   primary        0      373            1   \n",
       "4   5   30   Formal Job  married  tertiary        0     2694            0   \n",
       "\n",
       "   CarLoan Communication  LastContactDay  LastContactMonth  NoOfContacts  \\\n",
       "0        0     telephone              28                 1             2   \n",
       "1        0      cellular              26                 5             5   \n",
       "2        0      cellular               3                 6             1   \n",
       "3        0      cellular              11                 5             2   \n",
       "4        0      cellular               3                 6             1   \n",
       "\n",
       "   DaysPassed  PrevAttempts        Outcome  CallStart  CallEnd  CarInsurance  \\\n",
       "0          -1             0  Not contacted        825      826             0   \n",
       "1          -1             0  Not contacted        889      892             0   \n",
       "2         119             1        failure        990      996             1   \n",
       "3          -1             0  Not contacted        726      740             1   \n",
       "4          -1             0  Not contacted        875      878             0   \n",
       "\n",
       "   CallTime      balanse bin_month  \n",
       "0         1  up to 1500$        q1  \n",
       "1         3  up to 1500$        q2  \n",
       "2         6  up to 1000$        q2  \n",
       "3        14   up to 500$        q2  \n",
       "4         3  above 2000$        q2  "
      ]
     },
     "execution_count": 867,
     "metadata": {},
     "output_type": "execute_result"
    }
   ],
   "source": [
    "df.head()"
   ]
  },
  {
   "cell_type": "markdown",
   "metadata": {},
   "source": [
    "#### LABEL ENCODING"
   ]
  },
  {
   "cell_type": "code",
   "execution_count": 868,
   "metadata": {},
   "outputs": [],
   "source": [
    "from sklearn.preprocessing import LabelEncoder"
   ]
  },
  {
   "cell_type": "code",
   "execution_count": 869,
   "metadata": {},
   "outputs": [],
   "source": [
    "# df['Communication_encode'] = LabelEncoder().fit_transform(df['Communication'])"
   ]
  },
  {
   "cell_type": "code",
   "execution_count": 890,
   "metadata": {},
   "outputs": [
    {
     "data": {
      "text/plain": [
       "array(['up to 1500$', 'up to 1000$', 'up to 500$', 'above 2000$',\n",
       "       'up to 2000$'], dtype=object)"
      ]
     },
     "execution_count": 890,
     "metadata": {},
     "output_type": "execute_result"
    }
   ],
   "source": [
    "df['balanse'].unique()"
   ]
  },
  {
   "cell_type": "code",
   "execution_count": 891,
   "metadata": {},
   "outputs": [],
   "source": [
    "df['balanse_encode'] = df['balanse'].map({'up to 500$': 0, 'up to 1000$': 1, 'up to 1500$': 2, 'up to 2000$':3, 'above 2000$':4})"
   ]
  },
  {
   "cell_type": "markdown",
   "metadata": {},
   "source": [
    "#### ONE HOT ENCODING"
   ]
  },
  {
   "cell_type": "code",
   "execution_count": 892,
   "metadata": {},
   "outputs": [],
   "source": [
    "df = pd.get_dummies(df, columns=['Job'], drop_first=True)"
   ]
  },
  {
   "cell_type": "code",
   "execution_count": 893,
   "metadata": {},
   "outputs": [
    {
     "data": {
      "text/plain": [
       "(3735, 24)"
      ]
     },
     "execution_count": 893,
     "metadata": {},
     "output_type": "execute_result"
    }
   ],
   "source": [
    "df.shape"
   ]
  },
  {
   "cell_type": "code",
   "execution_count": 894,
   "metadata": {},
   "outputs": [
    {
     "data": {
      "text/html": [
       "<div>\n",
       "<style scoped>\n",
       "    .dataframe tbody tr th:only-of-type {\n",
       "        vertical-align: middle;\n",
       "    }\n",
       "\n",
       "    .dataframe tbody tr th {\n",
       "        vertical-align: top;\n",
       "    }\n",
       "\n",
       "    .dataframe thead th {\n",
       "        text-align: right;\n",
       "    }\n",
       "</style>\n",
       "<table border=\"1\" class=\"dataframe\">\n",
       "  <thead>\n",
       "    <tr style=\"text-align: right;\">\n",
       "      <th></th>\n",
       "      <th>Id</th>\n",
       "      <th>Age</th>\n",
       "      <th>Marital</th>\n",
       "      <th>Education</th>\n",
       "      <th>Default</th>\n",
       "      <th>Balance</th>\n",
       "      <th>HHInsurance</th>\n",
       "      <th>CarLoan</th>\n",
       "      <th>Communication</th>\n",
       "      <th>LastContactDay</th>\n",
       "      <th>LastContactMonth</th>\n",
       "      <th>NoOfContacts</th>\n",
       "      <th>DaysPassed</th>\n",
       "      <th>PrevAttempts</th>\n",
       "      <th>Outcome</th>\n",
       "      <th>CallStart</th>\n",
       "      <th>CallEnd</th>\n",
       "      <th>CarInsurance</th>\n",
       "      <th>CallTime</th>\n",
       "      <th>balanse</th>\n",
       "      <th>bin_month</th>\n",
       "      <th>balanse_encode</th>\n",
       "      <th>Job_Not Working</th>\n",
       "      <th>Job_Other Job</th>\n",
       "    </tr>\n",
       "  </thead>\n",
       "  <tbody>\n",
       "    <tr>\n",
       "      <th>0</th>\n",
       "      <td>1</td>\n",
       "      <td>32</td>\n",
       "      <td>single</td>\n",
       "      <td>tertiary</td>\n",
       "      <td>0</td>\n",
       "      <td>1218</td>\n",
       "      <td>1</td>\n",
       "      <td>0</td>\n",
       "      <td>telephone</td>\n",
       "      <td>28</td>\n",
       "      <td>1</td>\n",
       "      <td>2</td>\n",
       "      <td>-1</td>\n",
       "      <td>0</td>\n",
       "      <td>Not contacted</td>\n",
       "      <td>825</td>\n",
       "      <td>826</td>\n",
       "      <td>0</td>\n",
       "      <td>1</td>\n",
       "      <td>up to 1500$</td>\n",
       "      <td>q1</td>\n",
       "      <td>2</td>\n",
       "      <td>0</td>\n",
       "      <td>0</td>\n",
       "    </tr>\n",
       "    <tr>\n",
       "      <th>1</th>\n",
       "      <td>2</td>\n",
       "      <td>32</td>\n",
       "      <td>married</td>\n",
       "      <td>primary</td>\n",
       "      <td>0</td>\n",
       "      <td>1156</td>\n",
       "      <td>1</td>\n",
       "      <td>0</td>\n",
       "      <td>cellular</td>\n",
       "      <td>26</td>\n",
       "      <td>5</td>\n",
       "      <td>5</td>\n",
       "      <td>-1</td>\n",
       "      <td>0</td>\n",
       "      <td>Not contacted</td>\n",
       "      <td>889</td>\n",
       "      <td>892</td>\n",
       "      <td>0</td>\n",
       "      <td>3</td>\n",
       "      <td>up to 1500$</td>\n",
       "      <td>q2</td>\n",
       "      <td>2</td>\n",
       "      <td>0</td>\n",
       "      <td>1</td>\n",
       "    </tr>\n",
       "    <tr>\n",
       "      <th>2</th>\n",
       "      <td>3</td>\n",
       "      <td>29</td>\n",
       "      <td>single</td>\n",
       "      <td>tertiary</td>\n",
       "      <td>0</td>\n",
       "      <td>637</td>\n",
       "      <td>1</td>\n",
       "      <td>0</td>\n",
       "      <td>cellular</td>\n",
       "      <td>3</td>\n",
       "      <td>6</td>\n",
       "      <td>1</td>\n",
       "      <td>119</td>\n",
       "      <td>1</td>\n",
       "      <td>failure</td>\n",
       "      <td>990</td>\n",
       "      <td>996</td>\n",
       "      <td>1</td>\n",
       "      <td>6</td>\n",
       "      <td>up to 1000$</td>\n",
       "      <td>q2</td>\n",
       "      <td>1</td>\n",
       "      <td>0</td>\n",
       "      <td>0</td>\n",
       "    </tr>\n",
       "    <tr>\n",
       "      <th>3</th>\n",
       "      <td>4</td>\n",
       "      <td>25</td>\n",
       "      <td>single</td>\n",
       "      <td>primary</td>\n",
       "      <td>0</td>\n",
       "      <td>373</td>\n",
       "      <td>1</td>\n",
       "      <td>0</td>\n",
       "      <td>cellular</td>\n",
       "      <td>11</td>\n",
       "      <td>5</td>\n",
       "      <td>2</td>\n",
       "      <td>-1</td>\n",
       "      <td>0</td>\n",
       "      <td>Not contacted</td>\n",
       "      <td>726</td>\n",
       "      <td>740</td>\n",
       "      <td>1</td>\n",
       "      <td>14</td>\n",
       "      <td>up to 500$</td>\n",
       "      <td>q2</td>\n",
       "      <td>0</td>\n",
       "      <td>1</td>\n",
       "      <td>0</td>\n",
       "    </tr>\n",
       "    <tr>\n",
       "      <th>4</th>\n",
       "      <td>5</td>\n",
       "      <td>30</td>\n",
       "      <td>married</td>\n",
       "      <td>tertiary</td>\n",
       "      <td>0</td>\n",
       "      <td>2694</td>\n",
       "      <td>0</td>\n",
       "      <td>0</td>\n",
       "      <td>cellular</td>\n",
       "      <td>3</td>\n",
       "      <td>6</td>\n",
       "      <td>1</td>\n",
       "      <td>-1</td>\n",
       "      <td>0</td>\n",
       "      <td>Not contacted</td>\n",
       "      <td>875</td>\n",
       "      <td>878</td>\n",
       "      <td>0</td>\n",
       "      <td>3</td>\n",
       "      <td>above 2000$</td>\n",
       "      <td>q2</td>\n",
       "      <td>4</td>\n",
       "      <td>0</td>\n",
       "      <td>0</td>\n",
       "    </tr>\n",
       "  </tbody>\n",
       "</table>\n",
       "</div>"
      ],
      "text/plain": [
       "   Id  Age  Marital Education  Default  Balance  HHInsurance  CarLoan  \\\n",
       "0   1   32   single  tertiary        0     1218            1        0   \n",
       "1   2   32  married   primary        0     1156            1        0   \n",
       "2   3   29   single  tertiary        0      637            1        0   \n",
       "3   4   25   single   primary        0      373            1        0   \n",
       "4   5   30  married  tertiary        0     2694            0        0   \n",
       "\n",
       "  Communication  LastContactDay  LastContactMonth  NoOfContacts  DaysPassed  \\\n",
       "0     telephone              28                 1             2          -1   \n",
       "1      cellular              26                 5             5          -1   \n",
       "2      cellular               3                 6             1         119   \n",
       "3      cellular              11                 5             2          -1   \n",
       "4      cellular               3                 6             1          -1   \n",
       "\n",
       "   PrevAttempts        Outcome  CallStart  CallEnd  CarInsurance  CallTime  \\\n",
       "0             0  Not contacted        825      826             0         1   \n",
       "1             0  Not contacted        889      892             0         3   \n",
       "2             1        failure        990      996             1         6   \n",
       "3             0  Not contacted        726      740             1        14   \n",
       "4             0  Not contacted        875      878             0         3   \n",
       "\n",
       "       balanse bin_month  balanse_encode  Job_Not Working  Job_Other Job  \n",
       "0  up to 1500$        q1               2                0              0  \n",
       "1  up to 1500$        q2               2                0              1  \n",
       "2  up to 1000$        q2               1                0              0  \n",
       "3   up to 500$        q2               0                1              0  \n",
       "4  above 2000$        q2               4                0              0  "
      ]
     },
     "execution_count": 894,
     "metadata": {},
     "output_type": "execute_result"
    }
   ],
   "source": [
    "df.head()"
   ]
  },
  {
   "cell_type": "markdown",
   "metadata": {},
   "source": [
    "#### TRAIN TEST SPLIT"
   ]
  },
  {
   "cell_type": "code",
   "execution_count": 895,
   "metadata": {},
   "outputs": [],
   "source": [
    "from sklearn.model_selection import train_test_split, GridSearchCV, RandomizedSearchCV"
   ]
  },
  {
   "cell_type": "code",
   "execution_count": 902,
   "metadata": {},
   "outputs": [],
   "source": [
    "X = df.drop(columns=['Id','Communication','LastContactDay','CallStart','CallEnd','CarInsurance','balanse','Balance','Default','Outcome','bin_month','Education','Marital'])\n",
    "y = df['CarInsurance']\n",
    "\n",
    "X_train, X_test, y_train, y_test = train_test_split(X, y, train_size=.80, stratify=y, random_state=666)\n",
    "\n",
    "# Memisah data untuk train sebanyak 85% dan test 15% dan stratify agar data yang diambil dari carInsurance 0 dan 1 sama banyak persentasenya."
   ]
  },
  {
   "cell_type": "code",
   "execution_count": 903,
   "metadata": {},
   "outputs": [
    {
     "name": "stdout",
     "output_type": "stream",
     "text": [
      "(2988, 11)\n",
      "(747, 11)\n"
     ]
    }
   ],
   "source": [
    "print(X_train.shape)\n",
    "print(X_test.shape)\n",
    "\n",
    "# cek jumlah data train dan test"
   ]
  },
  {
   "cell_type": "code",
   "execution_count": 904,
   "metadata": {},
   "outputs": [
    {
     "data": {
      "text/html": [
       "<div>\n",
       "<style scoped>\n",
       "    .dataframe tbody tr th:only-of-type {\n",
       "        vertical-align: middle;\n",
       "    }\n",
       "\n",
       "    .dataframe tbody tr th {\n",
       "        vertical-align: top;\n",
       "    }\n",
       "\n",
       "    .dataframe thead th {\n",
       "        text-align: right;\n",
       "    }\n",
       "</style>\n",
       "<table border=\"1\" class=\"dataframe\">\n",
       "  <thead>\n",
       "    <tr style=\"text-align: right;\">\n",
       "      <th></th>\n",
       "      <th>Age</th>\n",
       "      <th>HHInsurance</th>\n",
       "      <th>CarLoan</th>\n",
       "      <th>LastContactMonth</th>\n",
       "      <th>NoOfContacts</th>\n",
       "      <th>DaysPassed</th>\n",
       "      <th>PrevAttempts</th>\n",
       "      <th>CallTime</th>\n",
       "      <th>balanse_encode</th>\n",
       "      <th>Job_Not Working</th>\n",
       "      <th>Job_Other Job</th>\n",
       "    </tr>\n",
       "  </thead>\n",
       "  <tbody>\n",
       "    <tr>\n",
       "      <th>1704</th>\n",
       "      <td>35</td>\n",
       "      <td>1</td>\n",
       "      <td>0</td>\n",
       "      <td>5</td>\n",
       "      <td>1</td>\n",
       "      <td>-1</td>\n",
       "      <td>0</td>\n",
       "      <td>3</td>\n",
       "      <td>4</td>\n",
       "      <td>0</td>\n",
       "      <td>0</td>\n",
       "    </tr>\n",
       "    <tr>\n",
       "      <th>947</th>\n",
       "      <td>34</td>\n",
       "      <td>1</td>\n",
       "      <td>0</td>\n",
       "      <td>5</td>\n",
       "      <td>1</td>\n",
       "      <td>-1</td>\n",
       "      <td>0</td>\n",
       "      <td>14</td>\n",
       "      <td>4</td>\n",
       "      <td>0</td>\n",
       "      <td>1</td>\n",
       "    </tr>\n",
       "    <tr>\n",
       "      <th>637</th>\n",
       "      <td>36</td>\n",
       "      <td>1</td>\n",
       "      <td>0</td>\n",
       "      <td>11</td>\n",
       "      <td>2</td>\n",
       "      <td>110</td>\n",
       "      <td>3</td>\n",
       "      <td>2</td>\n",
       "      <td>4</td>\n",
       "      <td>0</td>\n",
       "      <td>0</td>\n",
       "    </tr>\n",
       "    <tr>\n",
       "      <th>1084</th>\n",
       "      <td>47</td>\n",
       "      <td>1</td>\n",
       "      <td>0</td>\n",
       "      <td>6</td>\n",
       "      <td>12</td>\n",
       "      <td>-1</td>\n",
       "      <td>0</td>\n",
       "      <td>2</td>\n",
       "      <td>0</td>\n",
       "      <td>0</td>\n",
       "      <td>0</td>\n",
       "    </tr>\n",
       "    <tr>\n",
       "      <th>1041</th>\n",
       "      <td>25</td>\n",
       "      <td>1</td>\n",
       "      <td>0</td>\n",
       "      <td>7</td>\n",
       "      <td>1</td>\n",
       "      <td>-1</td>\n",
       "      <td>0</td>\n",
       "      <td>15</td>\n",
       "      <td>3</td>\n",
       "      <td>1</td>\n",
       "      <td>0</td>\n",
       "    </tr>\n",
       "  </tbody>\n",
       "</table>\n",
       "</div>"
      ],
      "text/plain": [
       "      Age  HHInsurance  CarLoan  LastContactMonth  NoOfContacts  DaysPassed  \\\n",
       "1704   35            1        0                 5             1          -1   \n",
       "947    34            1        0                 5             1          -1   \n",
       "637    36            1        0                11             2         110   \n",
       "1084   47            1        0                 6            12          -1   \n",
       "1041   25            1        0                 7             1          -1   \n",
       "\n",
       "      PrevAttempts  CallTime  balanse_encode  Job_Not Working  Job_Other Job  \n",
       "1704             0         3               4                0              0  \n",
       "947              0        14               4                0              1  \n",
       "637              3         2               4                0              0  \n",
       "1084             0         2               0                0              0  \n",
       "1041             0        15               3                1              0  "
      ]
     },
     "execution_count": 904,
     "metadata": {},
     "output_type": "execute_result"
    }
   ],
   "source": [
    "X_train.head()"
   ]
  },
  {
   "cell_type": "markdown",
   "metadata": {},
   "source": [
    "## Machine Learning Modelling\n",
    "\n",
    "- The Model will focus on recall 1, to reduce the error of machine predicted not interested but actual interested.\n",
    "\n",
    "#### Logistic Regression"
   ]
  },
  {
   "cell_type": "code",
   "execution_count": 905,
   "metadata": {},
   "outputs": [],
   "source": [
    "from sklearn.linear_model import LogisticRegression"
   ]
  },
  {
   "cell_type": "code",
   "execution_count": 906,
   "metadata": {},
   "outputs": [],
   "source": [
    "modelLR = LogisticRegression()"
   ]
  },
  {
   "cell_type": "code",
   "execution_count": 907,
   "metadata": {},
   "outputs": [
    {
     "name": "stderr",
     "output_type": "stream",
     "text": [
      "C:\\Users\\ASUS\\anaconda3\\lib\\site-packages\\sklearn\\linear_model\\_logistic.py:762: ConvergenceWarning: lbfgs failed to converge (status=1):\n",
      "STOP: TOTAL NO. of ITERATIONS REACHED LIMIT.\n",
      "\n",
      "Increase the number of iterations (max_iter) or scale the data as shown in:\n",
      "    https://scikit-learn.org/stable/modules/preprocessing.html\n",
      "Please also refer to the documentation for alternative solver options:\n",
      "    https://scikit-learn.org/stable/modules/linear_model.html#logistic-regression\n",
      "  n_iter_i = _check_optimize_result(\n"
     ]
    }
   ],
   "source": [
    "modelLR.fit(X_train, y_train)\n",
    "y_predLR = modelLR.predict(X_test)"
   ]
  },
  {
   "cell_type": "code",
   "execution_count": 908,
   "metadata": {},
   "outputs": [],
   "source": [
    "from sklearn.metrics import classification_report, confusion_matrix, recall_score, precision_score, accuracy_score"
   ]
  },
  {
   "cell_type": "code",
   "execution_count": 909,
   "metadata": {},
   "outputs": [
    {
     "name": "stdout",
     "output_type": "stream",
     "text": [
      "              precision    recall  f1-score   support\n",
      "\n",
      "           0       0.82      0.87      0.84       438\n",
      "           1       0.79      0.72      0.75       309\n",
      "\n",
      "    accuracy                           0.81       747\n",
      "   macro avg       0.80      0.79      0.80       747\n",
      "weighted avg       0.81      0.81      0.80       747\n",
      "\n"
     ]
    }
   ],
   "source": [
    "print(classification_report(y_test, y_predLR))\n",
    "\n",
    "# The Recall 1 score is 72% with the accuracy score of 81%\n",
    "# Since the Goals is to reduce the error of machine predicting not interested but actual interested so I will try to increase the recall 1"
   ]
  },
  {
   "cell_type": "code",
   "execution_count": 910,
   "metadata": {},
   "outputs": [],
   "source": [
    "# accuracy_score(y_test, y_predLR)"
   ]
  },
  {
   "cell_type": "code",
   "execution_count": 911,
   "metadata": {},
   "outputs": [
    {
     "data": {
      "image/png": "[encoded data removed]",
      "text/plain": [
       "<Figure size 432x288 with 2 Axes>"
      ]
     },
     "metadata": {
      "needs_background": "dark"
     },
     "output_type": "display_data"
    }
   ],
   "source": [
    "cm_LR = confusion_matrix(y_test, y_predLR, labels=[1,0])\n",
    "df_LR = pd.DataFrame(data=cm_LR, index=['akt 1', 'akt 0'], columns=['pred 1', 'pred 0'])\n",
    "sns.heatmap(df_LR, annot=True, fmt='d');\n",
    "plt.ylabel('Aktual')\n",
    "plt.xlabel('Prediksi')\n",
    "plt.show()\n",
    "\n",
    "# data 747 jumlah test data, Jumlah FN 86 dan FP 59, yang artinya machine menebak tidak tertarik tetapi aktual tertarik sejumlah 86 data"
   ]
  },
  {
   "cell_type": "code",
   "execution_count": 912,
   "metadata": {},
   "outputs": [],
   "source": [
    "# df1.head()"
   ]
  },
  {
   "cell_type": "code",
   "execution_count": 913,
   "metadata": {},
   "outputs": [],
   "source": [
    "# df1 = pd.get_dummies(df1, columns=['Job', 'bin_month','Marital','Education','Outcome'])"
   ]
  },
  {
   "cell_type": "code",
   "execution_count": 914,
   "metadata": {},
   "outputs": [],
   "source": [
    "# X = df1.drop(columns=['Id','Communication','LastContactDay','CallStart','CallEnd','CarInsurance','balanse','Balance'])\n",
    "# y = df1['CarInsurance']\n",
    "\n",
    "# X_train, X_test, y_train, y_test = train_test_split(X, y, train_size=.85, stratify=y, random_state=666)"
   ]
  },
  {
   "cell_type": "markdown",
   "metadata": {},
   "source": [
    "#### Random Forest"
   ]
  },
  {
   "cell_type": "code",
   "execution_count": 915,
   "metadata": {},
   "outputs": [],
   "source": [
    "from sklearn.ensemble import RandomForestClassifier"
   ]
  },
  {
   "cell_type": "code",
   "execution_count": 916,
   "metadata": {},
   "outputs": [
    {
     "name": "stdout",
     "output_type": "stream",
     "text": [
      "Wall time: 322 ms\n"
     ]
    },
    {
     "data": {
      "text/plain": [
       "RandomForestClassifier()"
      ]
     },
     "execution_count": 916,
     "metadata": {},
     "output_type": "execute_result"
    }
   ],
   "source": [
    "%%time\n",
    "model_rf = RandomForestClassifier()\n",
    "model_rf.fit(X_train, y_train)"
   ]
  },
  {
   "cell_type": "code",
   "execution_count": 917,
   "metadata": {},
   "outputs": [
    {
     "name": "stdout",
     "output_type": "stream",
     "text": [
      "Wall time: 82 ms\n"
     ]
    }
   ],
   "source": [
    "%%time\n",
    "y_base_RF = model_rf.predict(X_test)\n",
    "y_base_train = model_rf.predict(X_train)"
   ]
  },
  {
   "cell_type": "code",
   "execution_count": 945,
   "metadata": {},
   "outputs": [
    {
     "name": "stdout",
     "output_type": "stream",
     "text": [
      "              precision    recall  f1-score   support\n",
      "\n",
      "           0       0.86      0.85      0.85       438\n",
      "           1       0.79      0.80      0.79       309\n",
      "\n",
      "    accuracy                           0.83       747\n",
      "   macro avg       0.82      0.82      0.82       747\n",
      "weighted avg       0.83      0.83      0.83       747\n",
      "\n",
      "0.7961165048543689\n"
     ]
    }
   ],
   "source": [
    "cm_base_rf = confusion_matrix(y_test, y_base_RF, labels=[1,0])\n",
    "df_base_rf = pd.DataFrame(data=cm_base_rf, index=['Akt 1', 'Akt 0'], columns=['Pred 1', 'Pred 0'])\n",
    "print(classification_report(y_test, y_base_RF));\n",
    "print(recall_score(y_test, y_base_RF))\n",
    "# Dengan menggunakan model Random Forest Recall score naik dibanding dengan logistic regression\n",
    "# tingkat akurasi juga naik dibanding Logistic Regression"
   ]
  },
  {
   "cell_type": "code",
   "execution_count": 919,
   "metadata": {},
   "outputs": [
    {
     "data": {
      "image/png": "[encoded data removed]",
      "text/plain": [
       "<Figure size 432x288 with 2 Axes>"
      ]
     },
     "metadata": {
      "needs_background": "dark"
     },
     "output_type": "display_data"
    }
   ],
   "source": [
    "sns.heatmap(df_base_rf, annot=True,fmt='d');\n",
    "plt.ylabel('Aktual')\n",
    "plt.xlabel('Prediksi')\n",
    "plt.show()\n",
    "\n",
    "# dari 747 jumlah data machine menebak client tidak tertarik padahal aktualnya tertarik sebanyak 63 kali\n",
    "# dan menebak client tertarik aktualnya tidak tertarik sebanyak 64 kali"
   ]
  },
  {
   "cell_type": "markdown",
   "metadata": {},
   "source": [
    "#### XGB"
   ]
  },
  {
   "cell_type": "code",
   "execution_count": 920,
   "metadata": {},
   "outputs": [],
   "source": [
    "import xgboost as xgb\n",
    "from xgboost import XGBClassifier"
   ]
  },
  {
   "cell_type": "code",
   "execution_count": 921,
   "metadata": {},
   "outputs": [
    {
     "name": "stdout",
     "output_type": "stream",
     "text": [
      "Wall time: 123 ms\n"
     ]
    }
   ],
   "source": [
    "%%time\n",
    "model_xgb = XGBClassifier()\n",
    "model_xgb.fit(X_train, y_train)\n",
    "y_base_XGB = model_xgb.predict(X_test)\n",
    "y_xgb_train = model_xgb.predict(X_train)"
   ]
  },
  {
   "cell_type": "code",
   "execution_count": 922,
   "metadata": {},
   "outputs": [
    {
     "name": "stdout",
     "output_type": "stream",
     "text": [
      "              precision    recall  f1-score   support\n",
      "\n",
      "           0       0.86      0.87      0.86       438\n",
      "           1       0.81      0.80      0.80       309\n",
      "\n",
      "    accuracy                           0.84       747\n",
      "   macro avg       0.83      0.83      0.83       747\n",
      "weighted avg       0.84      0.84      0.84       747\n",
      "\n"
     ]
    }
   ],
   "source": [
    "cm_base_xgb = confusion_matrix(y_test, y_base_XGB, labels=[1,0])\n",
    "df_base_xgb = pd.DataFrame(data=cm_base_xgb, index=['Akt 1', 'Akt 0'], columns=['Pred 1', 'Pred 0'])\n",
    "print(classification_report(y_test, y_base_XGB));\n",
    "\n",
    "# Menggunakan Model XGB juga terlihat recall score lebih baik dibanding Logistic Regression dan kurang lebih sama dengan Random Forest"
   ]
  },
  {
   "cell_type": "code",
   "execution_count": 923,
   "metadata": {},
   "outputs": [
    {
     "data": {
      "image/png": "[encoded data removed]",
      "text/plain": [
       "<Figure size 432x288 with 2 Axes>"
      ]
     },
     "metadata": {
      "needs_background": "dark"
     },
     "output_type": "display_data"
    }
   ],
   "source": [
    "sns.heatmap(df_base_xgb, annot=True,fmt='d');\n",
    "plt.ylabel('Aktual')\n",
    "plt.xlabel('Prediksi')\n",
    "plt.show()\n",
    "\n",
    "# dari 747 jumlah data machine menebak client tidak tertarik padahal aktualnya tertarik sebanyak 62 kali\n",
    "# dan menebak client tertarik aktualnya tidak tertarik sebanyak 58 kali"
   ]
  },
  {
   "cell_type": "markdown",
   "metadata": {},
   "source": [
    "## HYPER PARAMETER TUNING"
   ]
  },
  {
   "cell_type": "code",
   "execution_count": 924,
   "metadata": {},
   "outputs": [],
   "source": [
    "#### Logistic Regression HPT"
   ]
  },
  {
   "cell_type": "code",
   "execution_count": 925,
   "metadata": {},
   "outputs": [],
   "source": [
    "LR = LogisticRegression()"
   ]
  },
  {
   "cell_type": "code",
   "execution_count": 926,
   "metadata": {},
   "outputs": [],
   "source": [
    "param_LR = {'penalty':['l1', 'l2', 'elasticnet', 'none'],\n",
    "            'max_iter': [100,500],\n",
    "            'C': [1,1.5,0.75],\n",
    "            'tol': [0.0001,0.0005,.0007],\n",
    "           }"
   ]
  },
  {
   "cell_type": "code",
   "execution_count": 927,
   "metadata": {},
   "outputs": [
    {
     "name": "stdout",
     "output_type": "stream",
     "text": [
      "Fitting 5 folds for each of 72 candidates, totalling 360 fits\n"
     ]
    },
    {
     "name": "stderr",
     "output_type": "stream",
     "text": [
      "[Parallel(n_jobs=-1)]: Using backend LokyBackend with 8 concurrent workers.\n",
      "[Parallel(n_jobs=-1)]: Done  58 tasks      | elapsed:    0.2s\n",
      "[Parallel(n_jobs=-1)]: Done 360 out of 360 | elapsed:    4.1s finished\n",
      "C:\\Users\\ASUS\\anaconda3\\lib\\site-packages\\sklearn\\linear_model\\_logistic.py:762: ConvergenceWarning: lbfgs failed to converge (status=1):\n",
      "STOP: TOTAL NO. of ITERATIONS REACHED LIMIT.\n",
      "\n",
      "Increase the number of iterations (max_iter) or scale the data as shown in:\n",
      "    https://scikit-learn.org/stable/modules/preprocessing.html\n",
      "Please also refer to the documentation for alternative solver options:\n",
      "    https://scikit-learn.org/stable/modules/linear_model.html#logistic-regression\n",
      "  n_iter_i = _check_optimize_result(\n"
     ]
    },
    {
     "data": {
      "text/plain": [
       "GridSearchCV(cv=5, estimator=LogisticRegression(), n_jobs=-1,\n",
       "             param_grid={'C': [1, 1.5, 0.75], 'max_iter': [100, 500],\n",
       "                         'penalty': ['l1', 'l2', 'elasticnet', 'none'],\n",
       "                         'tol': [0.0001, 0.0005, 0.0007]},\n",
       "             scoring='recall', verbose=1)"
      ]
     },
     "execution_count": 927,
     "metadata": {},
     "output_type": "execute_result"
    }
   ],
   "source": [
    "Tune_LR = GridSearchCV(LR, param_grid=param_LR, cv= 5, n_jobs= -1, verbose= 1, scoring='recall')\n",
    "Tune_LR.fit(X_train, y_train) "
   ]
  },
  {
   "cell_type": "code",
   "execution_count": 928,
   "metadata": {},
   "outputs": [
    {
     "data": {
      "text/plain": [
       "{'C': 0.75, 'max_iter': 100, 'penalty': 'l2', 'tol': 0.0001}"
      ]
     },
     "execution_count": 928,
     "metadata": {},
     "output_type": "execute_result"
    }
   ],
   "source": [
    "Tune_LR.best_params_"
   ]
  },
  {
   "cell_type": "code",
   "execution_count": 929,
   "metadata": {},
   "outputs": [
    {
     "name": "stdout",
     "output_type": "stream",
     "text": [
      "              precision    recall  f1-score   support\n",
      "\n",
      "           0       0.82      0.86      0.84       438\n",
      "           1       0.78      0.73      0.75       309\n",
      "\n",
      "    accuracy                           0.80       747\n",
      "   macro avg       0.80      0.79      0.79       747\n",
      "weighted avg       0.80      0.80      0.80       747\n",
      "\n"
     ]
    },
    {
     "data": {
      "image/png": "[encoded data removed]",
      "text/plain": [
       "<Figure size 432x288 with 2 Axes>"
      ]
     },
     "metadata": {
      "needs_background": "dark"
     },
     "output_type": "display_data"
    }
   ],
   "source": [
    "model_Tune_LR = Tune_LR.best_estimator_\n",
    "y_tune_lr = model_Tune_LR.predict(X_test)\n",
    "cm_tune_lr = confusion_matrix(y_test, y_tune_lr, labels=[1,0])\n",
    "df_tune_lr = pd.DataFrame(data=cm_tune_lr, index=['Akt 1', 'Akt 0'], columns=['Pred 1', 'Pred 0'])\n",
    "print(classification_report(y_test, y_tune_lr));\n",
    "sns.heatmap(df_tune_lr, annot=True,fmt='d');\n",
    "plt.ylabel('Aktual')\n",
    "plt.xlabel('Prediksi')\n",
    "plt.show()\n",
    "\n",
    "# Setelah dituning terlihat dari confusion matrix bahwa recall score naik 0.01"
   ]
  },
  {
   "cell_type": "markdown",
   "metadata": {},
   "source": [
    "#### Random Forest HPT"
   ]
  },
  {
   "cell_type": "code",
   "execution_count": 930,
   "metadata": {},
   "outputs": [],
   "source": [
    "RF_tuned = RandomForestClassifier()\n",
    "param_RF = {'n_estimators': [2000,5000],\n",
    "            'max_depth': [None,5,7,8,10,12],\n",
    "            'min_samples_split': [2,10,20],\n",
    "            'max_features': ['auto',5,10],\n",
    "            'random_state': [2]\n",
    "           }"
   ]
  },
  {
   "cell_type": "code",
   "execution_count": 931,
   "metadata": {},
   "outputs": [
    {
     "name": "stdout",
     "output_type": "stream",
     "text": [
      "Fitting 5 folds for each of 10 candidates, totalling 50 fits\n"
     ]
    },
    {
     "name": "stderr",
     "output_type": "stream",
     "text": [
      "[Parallel(n_jobs=-1)]: Using backend LokyBackend with 8 concurrent workers.\n",
      "[Parallel(n_jobs=-1)]: Done  34 tasks      | elapsed:  1.3min\n",
      "[Parallel(n_jobs=-1)]: Done  50 out of  50 | elapsed:  2.1min finished\n"
     ]
    },
    {
     "data": {
      "text/plain": [
       "RandomizedSearchCV(cv=5, estimator=RandomForestClassifier(), n_jobs=-1,\n",
       "                   param_distributions={'max_depth': [None, 5, 7, 8, 10, 12],\n",
       "                                        'max_features': ['auto', 5, 10],\n",
       "                                        'min_samples_split': [2, 10, 20],\n",
       "                                        'n_estimators': [2000, 5000],\n",
       "                                        'random_state': [2]},\n",
       "                   scoring='recall', verbose=1)"
      ]
     },
     "execution_count": 931,
     "metadata": {},
     "output_type": "execute_result"
    }
   ],
   "source": [
    "model_RF = RandomizedSearchCV(RF_tuned, param_distributions=param_RF, cv= 5, n_jobs= -1, verbose= 1, scoring='recall')\n",
    "model_RF.fit(X_train, y_train) "
   ]
  },
  {
   "cell_type": "code",
   "execution_count": 932,
   "metadata": {},
   "outputs": [
    {
     "data": {
      "text/plain": [
       "{'random_state': 2,\n",
       " 'n_estimators': 2000,\n",
       " 'min_samples_split': 20,\n",
       " 'max_features': 5,\n",
       " 'max_depth': 12}"
      ]
     },
     "execution_count": 932,
     "metadata": {},
     "output_type": "execute_result"
    }
   ],
   "source": [
    "model_RF.best_params_"
   ]
  },
  {
   "cell_type": "code",
   "execution_count": 944,
   "metadata": {},
   "outputs": [
    {
     "name": "stdout",
     "output_type": "stream",
     "text": [
      "              precision    recall  f1-score   support\n",
      "\n",
      "           0       0.86      0.87      0.86       438\n",
      "           1       0.81      0.80      0.80       309\n",
      "\n",
      "    accuracy                           0.84       747\n",
      "   macro avg       0.83      0.83      0.83       747\n",
      "weighted avg       0.84      0.84      0.84       747\n",
      "\n",
      "0.7993527508090615\n"
     ]
    }
   ],
   "source": [
    "model_tuned_RF = model_RF.best_estimator_\n",
    "y_tune_rf = model_tuned_RF.predict(X_test)\n",
    "cm_tune_rf = confusion_matrix(y_test, y_tune_rf, labels=[1,0])\n",
    "df_tune_rf = pd.DataFrame(data=cm_tune_rf, index=['Akt 1', 'Akt 0'], columns=['Pred 1', 'Pred 0'])\n",
    "print(classification_report(y_test, y_tune_rf));\n",
    "print(recall_score(y_test, y_tune_rf))\n",
    "\n",
    "# Dapat dilihat bahwa recall score naik  0.003 dan accuracy naik 0.01 dibandingkan dengan base modelnya"
   ]
  },
  {
   "cell_type": "code",
   "execution_count": 942,
   "metadata": {},
   "outputs": [
    {
     "data": {
      "image/png": "[encoded data removed]",
      "text/plain": [
       "<Figure size 432x288 with 2 Axes>"
      ]
     },
     "metadata": {
      "needs_background": "dark"
     },
     "output_type": "display_data"
    }
   ],
   "source": [
    "sns.heatmap(df_tune_rf, annot=True,fmt='d');\n",
    "plt.ylabel('Aktual')\n",
    "plt.xlabel('Prediksi')\n",
    "plt.show()\n",
    "\n",
    "# Dari 747 data test terdapat FN 62 dan FP 59 yang mengindikasikan bahwa model menebak 0 aktual 1 sebanyak 62 kali dan model menebak 1 dan aktual 0 sebanyak 59 kali"
   ]
  },
  {
   "cell_type": "code",
   "execution_count": 934,
   "metadata": {},
   "outputs": [
    {
     "name": "stdout",
     "output_type": "stream",
     "text": [
      "0.8741633199464525\n",
      "0.8380187416331994\n"
     ]
    }
   ],
   "source": [
    "y_tune_rf_train = model_tuned_RF.predict(X_train)\n",
    "print((accuracy_score(y_train, y_tune_rf_train)).round(2))\n",
    "print((accuracy_score(y_test, y_tune_rf)).round(2))"
   ]
  },
  {
   "cell_type": "markdown",
   "metadata": {},
   "source": [
    "### XGB HPT"
   ]
  },
  {
   "cell_type": "code",
   "execution_count": 935,
   "metadata": {},
   "outputs": [],
   "source": [
    "XGB_Tuned = XGBClassifier()\n",
    "param_xgb = {'max_depth': [None, 1, 5],\n",
    "             'learning_rate': [0.100000012,0.300000012,0.600000012] , \n",
    "             'n_estimators': [1000], \n",
    "             'gamma': [0,.5], \n",
    "             'colsample_bytree': [1,0.5],\n",
    "             'subsample': [1], \n",
    "             'reg_alpha':[0,0.5] ,\n",
    "             'reg_lambda': [1,0.8],\n",
    "             'random_state': [55]\n",
    "            }"
   ]
  },
  {
   "cell_type": "code",
   "execution_count": 936,
   "metadata": {},
   "outputs": [
    {
     "name": "stdout",
     "output_type": "stream",
     "text": [
      "Fitting 5 folds for each of 144 candidates, totalling 720 fits\n"
     ]
    },
    {
     "name": "stderr",
     "output_type": "stream",
     "text": [
      "[Parallel(n_jobs=-1)]: Using backend LokyBackend with 8 concurrent workers.\n",
      "[Parallel(n_jobs=-1)]: Done  34 tasks      | elapsed:   10.5s\n",
      "[Parallel(n_jobs=-1)]: Done 184 tasks      | elapsed:   52.3s\n",
      "[Parallel(n_jobs=-1)]: Done 434 tasks      | elapsed:  2.1min\n",
      "[Parallel(n_jobs=-1)]: Done 720 out of 720 | elapsed:  3.2min finished\n"
     ]
    },
    {
     "data": {
      "text/plain": [
       "GridSearchCV(cv=5,\n",
       "             estimator=XGBClassifier(base_score=None, booster=None,\n",
       "                                     colsample_bylevel=None,\n",
       "                                     colsample_bynode=None,\n",
       "                                     colsample_bytree=None, gamma=None,\n",
       "                                     gpu_id=None, importance_type='gain',\n",
       "                                     interaction_constraints=None,\n",
       "                                     learning_rate=None, max_delta_step=None,\n",
       "                                     max_depth=None, min_child_weight=None,\n",
       "                                     missing=nan, monotone_constraints=None,\n",
       "                                     n_estimators=100, n_jobs...\n",
       "                                     scale_pos_weight=None, subsample=None,\n",
       "                                     tree_method=None, validate_parameters=None,\n",
       "                                     verbosity=None),\n",
       "             n_jobs=-1,\n",
       "             param_grid={'colsample_bytree': [1, 0.5], 'gamma': [0, 0.5],\n",
       "                         'learning_rate': [0.100000012, 0.300000012,\n",
       "                                           0.600000012],\n",
       "                         'max_depth': [None, 1, 5], 'n_estimators': [1000],\n",
       "                         'random_state': [55], 'reg_alpha': [0, 0.5],\n",
       "                         'reg_lambda': [1, 0.8], 'subsample': [1]},\n",
       "             scoring='recall', verbose=1)"
      ]
     },
     "execution_count": 936,
     "metadata": {},
     "output_type": "execute_result"
    }
   ],
   "source": [
    "model_XGB = GridSearchCV(XGB_Tuned, param_grid =param_xgb, cv= 5, n_jobs= -1, verbose= 1, scoring='recall')\n",
    "model_XGB.fit(X_train, y_train)"
   ]
  },
  {
   "cell_type": "code",
   "execution_count": 937,
   "metadata": {},
   "outputs": [
    {
     "data": {
      "text/plain": [
       "{'colsample_bytree': 1,\n",
       " 'gamma': 0.5,\n",
       " 'learning_rate': 0.300000012,\n",
       " 'max_depth': 5,\n",
       " 'n_estimators': 1000,\n",
       " 'random_state': 55,\n",
       " 'reg_alpha': 0,\n",
       " 'reg_lambda': 1,\n",
       " 'subsample': 1}"
      ]
     },
     "execution_count": 937,
     "metadata": {},
     "output_type": "execute_result"
    }
   ],
   "source": [
    "model_XGB.best_params_"
   ]
  },
  {
   "cell_type": "code",
   "execution_count": 938,
   "metadata": {},
   "outputs": [
    {
     "name": "stdout",
     "output_type": "stream",
     "text": [
      "              precision    recall  f1-score   support\n",
      "\n",
      "           0       0.87      0.87      0.87       438\n",
      "           1       0.81      0.82      0.82       309\n",
      "\n",
      "    accuracy                           0.85       747\n",
      "   macro avg       0.84      0.84      0.84       747\n",
      "weighted avg       0.85      0.85      0.85       747\n",
      "\n"
     ]
    },
    {
     "data": {
      "image/png": "[encoded data removed]",
      "text/plain": [
       "<Figure size 432x288 with 2 Axes>"
      ]
     },
     "metadata": {
      "needs_background": "dark"
     },
     "output_type": "display_data"
    }
   ],
   "source": [
    "model_tuned_XGB = model_XGB.best_estimator_\n",
    "y_tune_xgb = model_tuned_XGB.predict(X_test)\n",
    "cm_tune_xgb = confusion_matrix(y_test, y_tune_xgb, labels=[1,0])\n",
    "df_tune_xgb = pd.DataFrame(data=cm_tune_xgb, index=['Akt 1', 'Akt 0'], columns=['Pred 1', 'Pred 0'])\n",
    "print(classification_report(y_test, y_tune_xgb));\n",
    "sns.heatmap(df_tune_xgb, annot=True,fmt='d');\n",
    "plt.ylabel('Aktual')\n",
    "plt.xlabel('Prediksi')\n",
    "plt.show()\n",
    "\n",
    "# Dari hasil tuning, recall score dan accuracy naik 0.02 dibanding base modelnya\n",
    "# Dari 747 data test, FN sejumlah 55 dan FP 59 yang mengindikasikan bahwa model menebak 0 tapi aktual 1 sebanyak 55 kali dan model menebak 1 tapi aktual 0 sebanyakk 59 kali"
   ]
  },
  {
   "cell_type": "code",
   "execution_count": 939,
   "metadata": {},
   "outputs": [
    {
     "name": "stdout",
     "output_type": "stream",
     "text": [
      "0.9170013386880856\n",
      "0.8473895582329317\n"
     ]
    }
   ],
   "source": [
    "y_tune_xgb_train = model_tuned_XGB.predict(X_train)\n",
    "print(accuracy_score(y_train, y_tune_xgb_train))\n",
    "print(accuracy_score(y_test, y_tune_xgb))\n",
    "\n",
    "# Namun terlihat masih overfit data train dibanding data testnya"
   ]
  },
  {
   "cell_type": "code",
   "execution_count": 946,
   "metadata": {},
   "outputs": [],
   "source": [
    "LRbase = recall_score(y_test, y_predLR)\n",
    "RF_base = recall_score(y_test, y_base_RF)\n",
    "XGB_base = recall_score(y_test, y_base_XGB)\n",
    "LR_tuned = recall_score(y_test, y_tune_lr)\n",
    "RF_tuned = recall_score(y_test, y_tune_rf)\n",
    "XGB_tuned = recall_score(y_test, y_tune_xgb)"
   ]
  },
  {
   "cell_type": "code",
   "execution_count": 947,
   "metadata": {},
   "outputs": [
    {
     "data": {
      "text/html": [
       "<div>\n",
       "<style scoped>\n",
       "    .dataframe tbody tr th:only-of-type {\n",
       "        vertical-align: middle;\n",
       "    }\n",
       "\n",
       "    .dataframe tbody tr th {\n",
       "        vertical-align: top;\n",
       "    }\n",
       "\n",
       "    .dataframe thead th {\n",
       "        text-align: right;\n",
       "    }\n",
       "</style>\n",
       "<table border=\"1\" class=\"dataframe\">\n",
       "  <thead>\n",
       "    <tr style=\"text-align: right;\">\n",
       "      <th></th>\n",
       "      <th>Recall Score</th>\n",
       "    </tr>\n",
       "  </thead>\n",
       "  <tbody>\n",
       "    <tr>\n",
       "      <th>XGB_tuned</th>\n",
       "      <td>0.822006</td>\n",
       "    </tr>\n",
       "    <tr>\n",
       "      <th>XGB</th>\n",
       "      <td>0.799353</td>\n",
       "    </tr>\n",
       "    <tr>\n",
       "      <th>RF_tuned</th>\n",
       "      <td>0.799353</td>\n",
       "    </tr>\n",
       "    <tr>\n",
       "      <th>RF</th>\n",
       "      <td>0.796117</td>\n",
       "    </tr>\n",
       "    <tr>\n",
       "      <th>LR_tuned</th>\n",
       "      <td>0.728155</td>\n",
       "    </tr>\n",
       "    <tr>\n",
       "      <th>LR</th>\n",
       "      <td>0.721683</td>\n",
       "    </tr>\n",
       "  </tbody>\n",
       "</table>\n",
       "</div>"
      ],
      "text/plain": [
       "           Recall Score\n",
       "XGB_tuned      0.822006\n",
       "XGB            0.799353\n",
       "RF_tuned       0.799353\n",
       "RF             0.796117\n",
       "LR_tuned       0.728155\n",
       "LR             0.721683"
      ]
     },
     "execution_count": 947,
     "metadata": {},
     "output_type": "execute_result"
    }
   ],
   "source": [
    "data={\n",
    "    'LR': [LRbase],\n",
    "    'RF': [RF_base],\n",
    "    'XGB': [XGB_base],\n",
    "    'LR_tuned': [LR_tuned],\n",
    "    'RF_tuned': [RF_tuned],\n",
    "    'XGB_tuned': [XGB_tuned]\n",
    "}\n",
    "\n",
    "(pd.DataFrame(data, index=['Recall Score']).T).sort_values('Recall Score',ascending=False)\n",
    "\n",
    "# Dari hasil komparasi tiap model, XGB Hyper Parameter Tuning mempunyai hasil recall score tertinggi tapi tidak cukup reliable dikarenakan perbedaan cukup besar antara data train vs data test\n",
    "# Sehingga menggunakan Random Forest yang sudah di Hyper Parameter Tuning merupakan pilihan terbaik karena data train vs train tidak berbeda jauh."
   ]
  },
  {
   "cell_type": "markdown",
   "metadata": {},
   "source": [
    "## CONCLUSION\n",
    "\n",
    "The highest Recall Score coming from Random Forest with Hyper parameter Tuning and the accuracy also the highest compared to other model\n",
    "\n",
    "- The amount of customer who agreed to get insurance mostly in up to 500 and up to 2,000$\n",
    "- Half of the Customer who doesnt insured their Household are more likely to get car insurance, 51 percent of them are decided to get car Insurance\n",
    "- Meanwhile the customer who insured their household are only 31% of them get the car insurance\n",
    "- Customers who contacted more than 8 times for 1 campaign are more unlikely to get insurance, while the customer who first time contacted for the campaign has the highest rate to get insurance car\n",
    "- The majority of customers are havent been previously contacted, while the top 9 customer last contacted are above 90 days.\n",
    "- The customers occupation as a student surprisingly has the beest response rate with 67 percent of them are decide to get the car Insurance\n",
    "- Unemployed and retired occupation followed with 59 percent yes response rate. Then followed by management and admin with 45 percent and 40 percent\n",
    "- The top 3 response rate are coming from customers who \"didnt have a job\" type of occupation.\n",
    "- Customer who is single and divorced are more likely to get Car Insurance compared to the married customer\n",
    "- Customer who in secondary education are the highest amount of getting car insurance from the yes rate, \n",
    "- Customers with tertiary education are more likely to get insurance with a 48 percent rate\n",
    "- The company contacted mostly performed on May to Aug, but from this data we can see that the most effective or success rate of contact were not on those months.\n",
    "- Dec, Sep and Mar are the most effective month with 80 - 83 percent success rate!, Followed by oct 77 percent, apr 52 and feb 51 percent success rate.\n",
    "- Customer with success outcome on previous marketing campaign are more likely to get the car Insurance.\n",
    "- Even compared to the failure attempts on Previous campaign, the not contacted customers on previous marketing campaign has the lowest success rate percentage to get car insurance.\n",
    "- The longer the CallTime the higher the success rate. Though there are some exception on the minutes 36 and 51 because the number of times performed only 1 and its a no response or customer didnt get the car insurance\n",
    "\n",
    "## SUGGESTION\n",
    "\n",
    "- The bank should approach client with occupation of Students, retired, unemployed with balance below $500 have been contacted less than 5 times and still single and doesnt have other insurance product with calltime more than 30 minutes are more likely to get the car Insurance.\n"
   ]
  },
  {
   "cell_type": "markdown",
   "metadata": {},
   "source": [
    "## DEPLOY\n"
   ]
  },
  {
   "cell_type": "code",
   "execution_count": 948,
   "metadata": {},
   "outputs": [],
   "source": [
    "import joblib"
   ]
  },
  {
   "cell_type": "code",
   "execution_count": 949,
   "metadata": {},
   "outputs": [
    {
     "data": {
      "text/plain": [
       "['ModelCarInsurance']"
      ]
     },
     "execution_count": 949,
     "metadata": {},
     "output_type": "execute_result"
    }
   ],
   "source": [
    "joblib.dump(model_tuned_RF, 'ModelCarInsurance')"
   ]
  },
  {
   "cell_type": "code",
   "execution_count": null,
   "metadata": {},
   "outputs": [],
   "source": []
  },
  {
   "cell_type": "code",
   "execution_count": 960,
   "metadata": {},
   "outputs": [],
   "source": [
    "df1 = df.copy()"
   ]
  },
  {
   "cell_type": "code",
   "execution_count": 961,
   "metadata": {},
   "outputs": [],
   "source": [
    "df1 = df1.drop(columns=['Id','Communication','LastContactDay','CallStart','CallEnd','balanse','Balance','Default','Outcome','bin_month','Education','Marital'])"
   ]
  },
  {
   "cell_type": "code",
   "execution_count": 962,
   "metadata": {},
   "outputs": [],
   "source": [
    "df1.to_csv('InsuranceFinal.csv',index=False)"
   ]
  },
  {
   "cell_type": "code",
   "execution_count": 963,
   "metadata": {},
   "outputs": [
    {
     "data": {
      "text/html": [
       "<div>\n",
       "<style scoped>\n",
       "    .dataframe tbody tr th:only-of-type {\n",
       "        vertical-align: middle;\n",
       "    }\n",
       "\n",
       "    .dataframe tbody tr th {\n",
       "        vertical-align: top;\n",
       "    }\n",
       "\n",
       "    .dataframe thead th {\n",
       "        text-align: right;\n",
       "    }\n",
       "</style>\n",
       "<table border=\"1\" class=\"dataframe\">\n",
       "  <thead>\n",
       "    <tr style=\"text-align: right;\">\n",
       "      <th></th>\n",
       "      <th>Age</th>\n",
       "      <th>HHInsurance</th>\n",
       "      <th>CarLoan</th>\n",
       "      <th>LastContactMonth</th>\n",
       "      <th>NoOfContacts</th>\n",
       "      <th>DaysPassed</th>\n",
       "      <th>PrevAttempts</th>\n",
       "      <th>CarInsurance</th>\n",
       "      <th>CallTime</th>\n",
       "      <th>balanse_encode</th>\n",
       "      <th>Job_Not Working</th>\n",
       "      <th>Job_Other Job</th>\n",
       "    </tr>\n",
       "  </thead>\n",
       "  <tbody>\n",
       "    <tr>\n",
       "      <th>0</th>\n",
       "      <td>32</td>\n",
       "      <td>1</td>\n",
       "      <td>0</td>\n",
       "      <td>1</td>\n",
       "      <td>2</td>\n",
       "      <td>-1</td>\n",
       "      <td>0</td>\n",
       "      <td>0</td>\n",
       "      <td>1</td>\n",
       "      <td>2</td>\n",
       "      <td>0</td>\n",
       "      <td>0</td>\n",
       "    </tr>\n",
       "    <tr>\n",
       "      <th>1</th>\n",
       "      <td>32</td>\n",
       "      <td>1</td>\n",
       "      <td>0</td>\n",
       "      <td>5</td>\n",
       "      <td>5</td>\n",
       "      <td>-1</td>\n",
       "      <td>0</td>\n",
       "      <td>0</td>\n",
       "      <td>3</td>\n",
       "      <td>2</td>\n",
       "      <td>0</td>\n",
       "      <td>1</td>\n",
       "    </tr>\n",
       "    <tr>\n",
       "      <th>2</th>\n",
       "      <td>29</td>\n",
       "      <td>1</td>\n",
       "      <td>0</td>\n",
       "      <td>6</td>\n",
       "      <td>1</td>\n",
       "      <td>119</td>\n",
       "      <td>1</td>\n",
       "      <td>1</td>\n",
       "      <td>6</td>\n",
       "      <td>1</td>\n",
       "      <td>0</td>\n",
       "      <td>0</td>\n",
       "    </tr>\n",
       "    <tr>\n",
       "      <th>3</th>\n",
       "      <td>25</td>\n",
       "      <td>1</td>\n",
       "      <td>0</td>\n",
       "      <td>5</td>\n",
       "      <td>2</td>\n",
       "      <td>-1</td>\n",
       "      <td>0</td>\n",
       "      <td>1</td>\n",
       "      <td>14</td>\n",
       "      <td>0</td>\n",
       "      <td>1</td>\n",
       "      <td>0</td>\n",
       "    </tr>\n",
       "    <tr>\n",
       "      <th>4</th>\n",
       "      <td>30</td>\n",
       "      <td>0</td>\n",
       "      <td>0</td>\n",
       "      <td>6</td>\n",
       "      <td>1</td>\n",
       "      <td>-1</td>\n",
       "      <td>0</td>\n",
       "      <td>0</td>\n",
       "      <td>3</td>\n",
       "      <td>4</td>\n",
       "      <td>0</td>\n",
       "      <td>0</td>\n",
       "    </tr>\n",
       "  </tbody>\n",
       "</table>\n",
       "</div>"
      ],
      "text/plain": [
       "   Age  HHInsurance  CarLoan  LastContactMonth  NoOfContacts  DaysPassed  \\\n",
       "0   32            1        0                 1             2          -1   \n",
       "1   32            1        0                 5             5          -1   \n",
       "2   29            1        0                 6             1         119   \n",
       "3   25            1        0                 5             2          -1   \n",
       "4   30            0        0                 6             1          -1   \n",
       "\n",
       "   PrevAttempts  CarInsurance  CallTime  balanse_encode  Job_Not Working  \\\n",
       "0             0             0         1               2                0   \n",
       "1             0             0         3               2                0   \n",
       "2             1             1         6               1                0   \n",
       "3             0             1        14               0                1   \n",
       "4             0             0         3               4                0   \n",
       "\n",
       "   Job_Other Job  \n",
       "0              0  \n",
       "1              1  \n",
       "2              0  \n",
       "3              0  \n",
       "4              0  "
      ]
     },
     "execution_count": 963,
     "metadata": {},
     "output_type": "execute_result"
    }
   ],
   "source": [
    "df1.head()"
   ]
  },
  {
   "cell_type": "code",
   "execution_count": null,
   "metadata": {},
   "outputs": [],
   "source": []
  }
 ],
 "metadata": {
  "kernelspec": {
   "display_name": "Python 3",
   "language": "python",
   "name": "python3"
  },
  "language_info": {
   "codemirror_mode": {
    "name": "ipython",
    "version": 3
   },
   "file_extension": ".py",
   "mimetype": "text/x-python",
   "name": "python",
   "nbconvert_exporter": "python",
   "pygments_lexer": "ipython3",
   "version": "3.8.3"
  }
 },
 "nbformat": 4,
 "nbformat_minor": 4
}
